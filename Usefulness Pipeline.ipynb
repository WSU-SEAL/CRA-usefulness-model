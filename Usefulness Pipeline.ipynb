{
 "cells": [
  {
   "cell_type": "markdown",
   "metadata": {},
   "source": [
    "## Load Data"
   ]
  },
  {
   "cell_type": "code",
   "execution_count": 1,
   "metadata": {},
   "outputs": [],
   "source": [
    "import pandas as pd\n",
    "import numpy as np\n",
    "import re\n",
    "import datetime\n",
    "import textstat\n",
    "import math\n",
    "from sklearn.feature_extraction.text import TfidfVectorizer\n",
    "import nltk\n",
    "from nltk.stem.snowball import SnowballStemmer\n",
    "from sklearn.preprocessing import KBinsDiscretizer\n",
    "from sklearn.feature_selection import RFE, RFECV\n",
    "from sklearn.model_selection import StratifiedKFold "
   ]
  },
  {
   "cell_type": "code",
   "execution_count": 2,
   "metadata": {},
   "outputs": [],
   "source": [
    "df = pd.read_csv('data/neat_data.csv')"
   ]
  },
  {
   "cell_type": "code",
   "execution_count": 3,
   "metadata": {},
   "outputs": [],
   "source": [
    "df = df.reindex(sorted(df.columns), axis=1)"
   ]
  },
  {
   "cell_type": "code",
   "execution_count": 4,
   "metadata": {
    "scrolled": true
   },
   "outputs": [
    {
     "data": {
      "text/plain": [
       "Index(['AuthorCommitsFile', 'CommittedTwice', 'ReviewedCommitsFile',\n",
       "       'ReviewedPRs', 'ReviewingTwice', 'TotalAuthoredCommits',\n",
       "       'TotalReviewedCommits', 'author_file_experience', 'author_responded',\n",
       "       'change_status', 'comment_time', 'commit_time', 'current_code',\n",
       "       'dev_commits', 'gratitude', 'is_confirmatory_response', 'is_last_patch',\n",
       "       'label', 'line_change', 'message', 'num_comments_in_thread',\n",
       "       'num_participate', 'num_patches', 'num_prev_comment_same_file',\n",
       "       'num_review_comment', 'patch_id', 'reply', 'rev_commits', 'reviewer_id',\n",
       "       'senticr_msg', 'senticr_rpl', 'status_num'],\n",
       "      dtype='object')"
      ]
     },
     "execution_count": 4,
     "metadata": {},
     "output_type": "execute_result"
    }
   ],
   "source": [
    "df.keys()"
   ]
  },
  {
   "cell_type": "markdown",
   "metadata": {},
   "source": [
    "## Feature Calculation"
   ]
  },
  {
   "cell_type": "markdown",
   "metadata": {},
   "source": [
    "Programming keywords list\n",
    "\n",
    "- https://www.tutorialspoint.com/computer_programming/computer_programming_keywords.htm\n",
    "- https://github.com/AnanthaRajuCprojects/Reserved-Key-Words-list-of-various-programming-languages\n",
    "- https://docs.swift.org/swift-book/ReferenceManual/LexicalStructure.html"
   ]
  },
  {
   "cell_type": "code",
   "execution_count": 5,
   "metadata": {},
   "outputs": [],
   "source": [
    "stop_word_list = ['fifteen',  'own',  'specify',  'inasmuch',  'immediate',  'someday',  'merely',  'behind',  \"couldn't\",  'did',  'sometime',  'arise',  'recently',  \"how's\",  'seeming',  'suggest',  'farther',  'yet',  \"it'd\",  'always',  'different',  'o',  'mostly',  'x',  'opposite',  'etc',  'move',  'whereby',  'successfully',  'okay',  'elsewhere',  \"she's\",  'nobody',  'two',  \"oughtn't\",  'which',  'yourselves',  'insofar',  'world',  'previously',  'sub',  'consequently',  'keeps',  'e',  \"you'll\",  'somebody',  \"that's\",  \"he'll\",  'especially',  'looking',  'provides',  'mrs',  'novel',  'secondly',  \"that've\",  'certainly',  'ex',  'u',  'happens',  'together',  'theyd',  'unless',  'shes',  'arent',  't',  'same',  'miss',  'towards',  'low',  'p',  'owing',  'specified',  'viz',  'taken',  'along',  'everybody',  'the',  'four',  'ca',  'got',  'ord',  'otherwise',  'therere',  'right',  'hundred',  'ltd',  \"you'd\",  'bottom',  'according',  'is',  'we',  'hence',  'whose',  'section',  'slightly',  'information',  'importance',  'ago',  'thin',  'auth',  'herein',  'amount',  'six',  'appear',  'he',  'much',  's',  'this',  'nine',  'yours',  \"won't\",  'here',  'those',  'beside',  \"i've\",  \"what've\",  'mg',  'necessarily',  'me',  \"hadn't\",  'call',  'considering',  'minus',  'showns',  \"she'll\",  \"why's\",  'hes',  'look',  'are',  'neither',  'fix',  'edu',  \"here's\",  'howbeit',  \"'ll\",  'able',  'whither',  'through',  'begin',  'last',  'likewise',  'specifying',  'however',  'youre',  'backwards',  'little',  'wonder',  'normally',  'none',  'page',  'unlike',  'gotten',  'should',  'anyhow',  'know',  'and',  'soon',  'similarly',  'ignored',  'been',  'when',  'inside',  'between',  'aren',  'seeing',  'twenty',  'consider',  'so',  'added',  'hasnt',  'stop',  \"didn't\",  \"mustn't\",  'whereafter',  'ref',  'causes',  'widely',  'less',  \"we'd\",  'neverless',  'besides',  'im',  'getting',  \"it's\",  'abroad',  'himse”',  'run',  'possible',  'back',  \"i'll\",  'half',  'end',  'at',  'never',  'sensible',  'throughout',  \"a's\",  'indicate',  'most',  \"where's\",  'accordance',  'becomes',  \"we've\",  'alongside',  'have',  'potentially',  'gives',  'forever',  'please',  'away',  'despite',  'being',  'per',  'make',  'need',  'already',  'mill',  'some',  'new',  'promptly',  'ff',  'c',  'outside',  'obtained',  'inner',  'for',  \"shan't\",  'entirely',  'kept',  'fify',  'sure',  'home',  'that',  'because',  'id',  'whatever',  'th',  \"shouldn't\",  'since',  'his',  \"who'd\",  'regards',  'hereafter',  \"ain't\",  'showed',  'greetings',  'thence',  'while',  'use',  'whence',  'gone',  're',  'forth',  'let',  'indicated',  'made',  'further',  'better',  'appropriate',  'upon',  'such',  'interest',  'w',  \"when's\",  'self',  'kg',  'primarily',  'truly',  'once',  \"who's\",  'latterly',  'placed',  'concerning',  'maybe',  'til',  'ran',  'obtain',  'least',  'everyone',  'rd',  'bill',  'affecting',  'ninety',  'whos',  'also',  'theres',  'don',  'a',  'wish',  'whereas',  'several',  'after',  'above',  'thereof',  \"daren't\",  'gave',  'million',  'possibly',  \"weren't\",  'y',  'words',  'whether',  'eight',  'sup',  \"'ve\",  'empty',  'think',  'de',  'fairly',  'mainly',  'actually',  'resulted',  'three',  'want',  'wherever',  'v',  'what',  'far',  \"we're\",  'mug',  'largely',  'nevertheless',  'than',  'says',  'thank',  'no-one',  'formerly',  'nowhere',  'no',  'given',  'can',  'detail',  'keys',  'announce',  'like',  'brief',  'come',  'part',  'welcome',  'na',  'by',  'f',  'follows',  'indicates',  'ups',  'ahead',  'appreciate',  'vol',  'regardless',  'another',  'to',  'tell',  'take',  'allows',  'quickly',  'backward',  'looks',  'certain',  'serious',  \"doesn't\",  'only',  'giving',  'first',  'indeed',  'therefore',  'i',  \"there're\",  'till',  'refs',  'date',  'about',  'has',  'whod',  'meantime',  'followed',  'seen',  'nor',  'latter',  'course',  \"i'd\",  'inc',  'various',  \"one's\",  'system',  'states',  'effect',  'km',  \"t's\",  'probably',  'perhaps',  'us',  'fill',  'will',  'm',  \"she'd\",  'toward',  'not',  'itself',  'does',  'changes',  'thou',  'itse”',  'shown',  'ok',  'apart',  'versus',  'herse”',  'begins',  'thirty',  'nos',  'took',  'youd',  'contains',  'might',  \"wouldn't\",  'saw',  'thats',  'amidst',  'whilst',  'contain',  'except',  'my',  'sincere',  \"can't\",  'caption',  'comes',  'round',  'dare',  'how',  'noone',  'predominantly',  \"hasn't\",  'across',  'research',  'against',  'may',  'reasonably',  'anymore',  'described',  \"aren't\",  'furthermore',  'heres',  'cannot',  'somewhat',  'said',  'forty',  'second',  'seems',  'ever',  'be',  'fifth',  'give',  'biol',  'ts',  \"he's\",  'invention',  'moreover',  \"you're\",  'must',  'whim',  'if',  'enough',  'uucp',  'seem',  \"they're\",  'before',  'z',  'regarding',  'n',  'anyways',  'wed',  'every',  'zero',  'j',  'just',  'downwards',  'needs',  'then',  'say',  'unlikely',  'sometimes',  'went',  'mr',  'particularly',  'later',  'thoroughly',  'makes',  'any',  'again',  \"mightn't\",  'con',  'alone',  'ed',  'go',  'example',  'put',  'within',  'using',  'accordingly',  'past',  'awfully',  'around',  'it',  'front',  \"who'll\",  'whoever',  'rather',  'off',  'inward',  'available',  'mine',  'there',  'instead',  'affected',  'usefulness',  'vols',  'doing',  'clearly',  'd',  'hello',  'became',  'index',  'on',  'computer',  'specifically',  'but',  'amongst',  'known',  'theirs',  'qv',  'thanx',  'hi',  'directly',  \"needn't\",  'briefly',  'hed',  'adj',  'these',  'done',  'eleven',  \"they'd\",  'beginning',  'unto',  'aside',  'sufficiently',  \"it'll\",  'amoungst',  'resulting',  'nay',  'from',  'obviously',  'cant',  'thereby',  'onto',  'each',  'hereby',  'would',  'anyone',  'anyway',  'do',  'theyre',  \"wasn't\",  'hopefully',  \"there'll\",  'an',  'everything',  'beforehand',  'h',  'significant',  'g',  'neverf',  'act',  'q',  'necessary',  'associated',  'trying',  'very',  'selves',  'things',  'old',  'often',  'anything',  'whomever',  'liked',  'in',  'adopted',  'saying',  'way',  'wheres',  'state',  'keep',  'who',  'all',  'nearly',  'k',  'anywhere',  'him',  'ah',  'relatively',  'whole',  'hither',  'means',  'thing',  'see',  'whichever',  'strongly',  'more',  'amid',  'used',  'useful',  'thereupon',  'going',  'near',  'usually',  'believe',  'undoing',  'under',  'respectively',  \"don't\",  'pp',  'our',  'ending',  \"let's\",  'thoughh',  'still',  'allow',  'following',  'hers',  'line',  'substantially',  'thru',  'tried',  'eg',  'due',  'unfortunately',  'whats',  'thereafter',  'currently',  'itd',  'b',  'others',  'her',  'co',  'shall',  'couldnt',  'namely',  'yes',  'lest',  'whom',  'thousand',  'top',  'present',  'or',  'definitely',  'few',  'myself',  'notwithstanding',  'mean',  'former',  'co.',  'et-al',  'affects',  'try',  'ten',  'hid',  'asking',  'thered',  'et',  'too',  'your',  'thick',  'sent',  'although',  'really',  'goes',  'was',  'therein',  'third',  'whenever',  'tip',  'un',  'plus',  'www',  'thereto',  'via',  'else',  'somewhere',  \"that'll\",  \"haven't\",  'myse”',  'uses',  'poorly',  'into',  'proud',  'they',  'side',  'knows',  \"c'mon\",  'com',  'ours',  'among',  'thanks',  \"there's\",  'quite',  'upwards',  'shed',  'anybody',  'thorough',  'help',  'thus',  'had',  'ourselves',  'exactly',  'somehow',  'important',  'whereupon',  'full',  \"he'd\",  'seriously',  'yourself',  'its',  'eighty',  'meanwhile',  'results',  'ie',  'even',  'tries',  'apparently',  'related',  'evermore',  'almost',  'sixty',  'well',  'value',  'abst',  'tends',  \"you've\",  'likely',  'wherein',  'up',  'where',  'beginnings',  'many',  'readily',  'nd',  'get',  'something',  'now',  'find',  \"c's\",  \"what'll\",  \"what's\",  'seven',  'fire',  'name',  \"they've\",  'somethan',  'provided',  'below',  'why',  'came',  \"we'll\",  'pages',  'found',  'everywhere',  'one',  \"isn't\",  'she',  'their',  \"there've\",  'hereupon',  'willing',  \"mayn't\",  'am',  'approximately',  'describe',  'r',  'non',  'recent',  'beyond',  'five',  'overall',  'them',  'himself',  'que',  'out',  'lately',  'usefully',  'inc.',  'ones',  'gets',  'sec',  'corresponding',  'best',  'themselves',  'until',  'particular',  'other',  'containing',  'could',  'cry',  'twelve',  'during',  'forward',  \"they'll\",  'l',  'sorry',  'afterwards',  'both',  'though',  'hardly',  'nothing',  'seemed',  'significantly',  'noted',  'wants',  'over',  \"there'd\",  'ask',  'fewer',  'herself',  'were',  'cause',  'twice',  'ml',  'lets',  'next',  'taking',  'throug',  'show',  'immediately',  'presumably',  'as',  'someone',  'with',  'without',  'ought',  'similar',  'you',  'of',  'become',  'I',  'oh',  'lower',  'shows',  'underneath',  'having',  \"i'm\",  'becoming',  'nonetheless',  'vs',  'either',  'down',  'omitted']"
   ]
  },
  {
   "cell_type": "code",
   "execution_count": 6,
   "metadata": {
    "scrolled": true
   },
   "outputs": [
    {
     "name": "stdout",
     "output_type": "stream",
     "text": [
      "{'<=', 'string', '~', 'defer', 'associatedtype', 'for(', 'sqlite2.o', 'macro', '\\\\s', '%s', '>', 'transient', '=', '.sh', 'return', 'lambda', 'default', '#selector', 'raise', 'const_cast', 'template', 'assert', '.xml', 'postsconscript', '-', 'virtual', 'delegate', 'short', 'extension', 'false', 'print', 'INT_MIN', 'set', 'goto', 'api', 'convenience', 'add', 'main', '#file', 'yield', 'namespace', 'newline', 'import', 'stdlib', 'xor', 'typedef', '*', 'optional', '.josn', '()', 'postfix', 'or_eq', 'switch (', 'bitor', '\\\\n', 'Any', 'sqlite3.o', '#define', 'inout', 'byte', 'def', 'Type', 'endwhile', 'NULL', '^', '**', 'implements', 'deinit', 'volatile', 'char', 'dynamic_cast', 'throw', 'switch(', 'protocol', 'function', 'xor_eq', 'cout', 'cin', 'synchronized', '#sourceLocation', 'memcpy', '[]', 'flag', 'unsigned', '--', 'INT_MAX', 'void', 'delete', 'pointer', 'for (', 'else{', '.css', 'infix', 'Protocol', 'iostream', '==', 'final', '<', 'vector', '\\t', 'strictfp', '#fileLiteral', '#warning', 'typealias', 'endforeach', 'std', 'weak', 'explicit', '.java', 'and_eq', 'abstract', 'boolean', 'extern', 'register', 'double', 'open', 'reinterpret_cast', 'self.', 'bool', 'class', '&&', '.h', 'struct', 'apk', '%f', '>=', 'float', 'fallthrough', '{}', 'entry', 'dynamic', 'inline', 'while (', 'endl', 'http', '_Packed', 'elif', 'queue', 'nil', 'unowned', 'clone', '%zu', 'guard', '#else', 'int', 'asm', 'union', 'array', 'fileprivate', 'nonmutating', 'break', 'else if', 'friend', 'null', 'malloc', 'variable', 'extends', 'switch', '#colorLiteral', 'header', 'typename', 'internal', '.html', 'prefix', '#imageLiteral', 'not_eq', '#endif', 'bitand', '#filePath', '#if', 'lazy', '.tcp', 'if(', 'append', 'echo', 'wchar_t', 'Self', 'package', '%lf', '#elseif', 'endfor', 'iomanip', 'long', 'required', 'compl', '\\n', '||', 'auto', 'override', 'static', 'instanceof', 'willSet', '.c', 'sqlite.o', 'signed', 'private', 'associativity', 'elseif', 'include', 'integer', 'gcov', 'throws', '.dat', 'left', 'operator', 'indirect', 'path', 'enum', 'native', '#include', 'parameter', 'var', 'interface', 'repeat', 'global', 'typeid', 'require', 'event', 'static_cast', 'MAX_RAND', 'if (', 'prepend', 'while(', 'else {', '#column', 'true', '#available', '->', 'npos', 'readonly', 'subscript', 'func', 'catch', 'finally', 'super', 'didSet', '.py', 'risk', '&', '+', 'endif', 'const', 'rethrows', '#line', 'method', 'stack', '++', 'public', 'sizeof', 'mutating', 'staticindentloopsize_t%d', 'foreach', '|', '.php', 'continue', 'mutable', 'precedence', 'cerr', '#fileID', '#error', '#function', 'protected', 'init', 'case', 'bug'}\n"
     ]
    }
   ],
   "source": [
    "c_reserved = [\"auto\", \"else\", \"long\", \"switch\", \"break\", \"enum\", \"register\", \"typedef\", \"case\", \"extern\", \"return\", \"union\", \"char\", \"float\", \"short\", \"unsigned\", \"const\", \"for\", \"signed\", \"void\", \"continue\", \"goto\", \"sizeof\", \"volatile\", \"default\", \"if\", \"static\", \"while\", \"do\", \"int\", \"struct\", \"_Packed\", \"double\"]\n",
    "cpp_reserved = [\"auto\", \"break\", \"case\", \"char\", \"continue\", \"default\", \"do\", \"double\", \"else\", \"entry\", \"extern\", \"float\", \"for\", \"goto\", \"if\", \"int\", \"long\", \"register\", \"return\", \"short\", \"sizeof\", \"static\", \"struct\", \"switch\", \"typedef\", \"union\", \"unsigned\", \"void\", \"volatile\", \"while\", \"asm\", \"bool\", \"catch\", \"class\", \"const_cast\", \"delete\", \"dynamic_cast\", \"explicit\", \"false\", \"friend\", \"inline\", \"mutable\", \"namespace\", \"new\", \"operator\", \"private\", \"public\", \"protected\", \"reinterpret_cast\", \"static_cast\", \"template\", \"this\", \"throw\", \"true\", \"try\", \"typeid\", \"typename\", \"using\", \"virtual\", \"wchar_t\", \"and\", \"and_eq\", \"bitand\", \"bitor\", \"compl\", \"not\", \"not_eq\", \"or\", \"or_eq\", \"xor\", \"xor_eq\", \"cin\", \"cout\", \"endl\", \"include\", \"INT_MIN\", \"INT_MAX\", \"iomanip\", \"iostream\", \"main\", \"MAX_RAND\", \"npos\", \"NULL\", \"std\", \"string\"]\n",
    "java_reserved = [\"abstract\", \"assert\", \"boolean\", \"break\", \"byte\", \"case\", \"catch\", \"char\", \"class\", \"const\", \"continue\", \"default\", \"do\", \"double\", \"else\", \"enum\", \"extends\", \"final\", \"finally\", \"float\", \"for\", \"goto\", \"if\", \"implements\", \"import\", \"instanceof\", \"int\", \"interface\", \"long\", \"native\", \"new\", \"package\", \"private\", \"protected\", \"public\", \"return\", \"short\", \"static\", \"strictfp\", \"super\", \"switch\", \"synchronized\", \"this\", \"throw\", \"throws\", \"transient\", \"try\", \"void\", \"volatile\", \"while\"]\n",
    "python_reserved = [\"and\", \"exec\", \"not\", \"assert\", \"finally\", \"or\", \"break\", \"for\", \"pass\", \"class\", \"from\", \"print\", \"continue\", \"global\", \"raise\", \"def\", \"if\", \"return\", \"del\", \"import\", \"try\", \"elif\", \"in\", \"while\", \"else\", \"is\", \"with\", \"except\", \"lambda\", \"yield\"]\n",
    "swift_reserved = [\"associatedtype\", \"class\", \"deinit\", \"enum\", \"extension\", \"fileprivate\", \"func\", \"import\", \"init\", \"inout\", \"internal\", \"let\", \"open\", \"operator\", \"private\", \"protocol\", \"public\", \"rethrows\", \"static\", \"struct\", \"subscript\", \"typealias\", \"var\", \"break\", \"case\", \"continue\", \"default\", \"defer\", \"do\", \"else\", \"fallthrough\", \"for\", \"guard\", \"if\", \"in\", \"repeat\", \"return\", \"switch\", \"where\", \"while\", \"as\", \"Any\", \"catch\", \"false\", \"is\", \"nil\", \"super\", \"self\", \"Self\", \"throw\", \"throws\", \"true\", \"try\", \"#available\", \"#colorLiteral\", \"#column\", \"#else\", \"#elseif\", \"#endif\", \"#error\", \"#file\", \"#fileID\", \"#fileLiteral\", \"#filePath\", \"#function\", \"#if\", \"#imageLiteral\", \"#line\", \"#selector\", \"#sourceLocation\", \"#warning\", \"associativity\", \"convenience\", \"dynamic\", \"didSet\", \"final\", \"get\", \"infix\", \"indirect\", \"lazy\", \"left\", \"mutating\", \"none\", \"nonmutating\", \"optional\", \"override\", \"postfix\", \"precedence\", \"prefix\", \"Protocol\", \"required\", \"right\", \"set\", \"Type\", \"unowned\", \"weak\", \"willSet\"]\n",
    "others = [\"for(\", \"for (\", \"if(\", \"if (\", \"while(\", \"while (\", \"switch(\", \"switch (\", \"else if\", \"else{\", \"else {\", \".c\", \".h\", \".java\", \".py\", \".php\", \".html\", \".css\", \".xml\", \".tcp\", \"sqlite3.o\", \"sqlite.o\", \"sqlite2.o\", \".sh\", \".dat\", \".josn\", \"http\", \"post\" \"sconscript\", \"path\", \"gcov\", \"add\", \"null\", \"flag\", \"bug\", \"newline\", \"memcpy\", \"boolean\", \"int\", \"integer\", \"float\", \"double\", \"char\", \"void\", \"class\", \"struct\", \"function\", \"method\", \"->\", \"pointer\", \"return\", \"stack\", \"queue\", \"vector\", \"array\", \"variable\", \"#include\", \"enum\", \"#define\", \"std\", \"macro\", \"header\", \"api\", \"risk\", \"cerr\", \"namespace\", \"parameter\", \"append\", \"prepend\", \"static\" \"indent\" \"loop\" \"size_t\" \"%d\", \"%s\", \"%f\", \"%lf\", \"%zu\", \"\\\\n\", \"print\", \"cout\", \"stdlib\", \"apk\", \"malloc\", \"switch\", \"self.\", \"==\", \">=\", \"<=\", \">\", \"<\", \"|\", \"&\", \"||\", \"&&\", \"--\", \"++\", \"**\", \"^\", \"~\", \"()\", \"{}\", \"[]\", \"*\", \"+\", \"-\", \"=\", \"\\n\", \"\\t\", \"\\s\",  'while', 'case', 'switch','def', 'abstract','byte','continue','native','private','synchronized', 'if', 'do', 'include', 'each', 'than', 'finally', 'class', 'double', 'float', 'int','else','instanceof', 'long', 'super', 'import', 'short', 'default', 'catch', 'try', 'new', 'final', 'extends', 'implements', 'public', 'protected', 'static', 'this', 'return', 'char', 'const', 'break', 'boolean', 'bool', 'package', 'byte', 'assert', 'raise', 'global', 'with', 'or', 'yield', 'in', 'out', 'except', 'and', 'enum', 'signed', 'void', 'virtual', 'union', 'goto', 'var', 'function', 'require', 'print', 'echo', 'foreach', 'elseif', 'namespace', 'delegate', 'event', 'override', 'struct', 'readonly', 'explicit', 'interface', 'get', 'set','elif','for', 'throw','throws','lambda','endfor','endforeach','endif','endwhile','clone']\n",
    "\n",
    "all_stop = set(c_reserved+cpp_reserved+java_reserved+swift_reserved+others+stop_word_list)\n",
    "programming_keywords = set(c_reserved+cpp_reserved+java_reserved+swift_reserved+others) - set(stop_word_list)\n",
    "print(programming_keywords)"
   ]
  },
  {
   "cell_type": "code",
   "execution_count": 7,
   "metadata": {},
   "outputs": [],
   "source": [
    "def stopWordRatio(s):\n",
    "    tokens = s.split()\n",
    "    n = 0\n",
    "    for x in tokens:\n",
    "        if x in all_stop:\n",
    "            n+=1\n",
    "    return n/len(tokens)"
   ]
  },
  {
   "cell_type": "code",
   "execution_count": 8,
   "metadata": {},
   "outputs": [],
   "source": [
    "def count_words(s):\n",
    "    return len(s.split())"
   ]
  },
  {
   "cell_type": "code",
   "execution_count": 9,
   "metadata": {},
   "outputs": [],
   "source": [
    "def programmin_words_count(s):\n",
    "    count = 0\n",
    "    lowerCamelCase = r'[a-z]+[A-Z0-9][a-z0-9]+[A-Za-z0-9]*'\n",
    "    upperCamelCase = r'[A-Z][a-z0-9]*[A-Z0-9][a-z0-9]+[A-Za-z0-9]*'\n",
    "    snake_case = r'([a-zA-Z]*_[a-zA-Z]+)+'\n",
    "    methodCalls = r'[\\w]+(?=\\().+\\)'\n",
    "    splits = s.split()\n",
    "    for w in splits:\n",
    "        if re.match(snake_case, w) != None or re.match(methodCalls, w) != None or re.match(lowerCamelCase, w) != None or re.match(upperCamelCase, w) != None or w in programming_keywords:\n",
    "            count += 1\n",
    "    return count"
   ]
  },
  {
   "cell_type": "code",
   "execution_count": 10,
   "metadata": {
    "scrolled": true
   },
   "outputs": [],
   "source": [
    "def discretize_pd(src_df, tgt_df, column_name, bins, onehot=True):\n",
    "    desc = pd.qcut(src_df[column_name], bins, labels=False)\n",
    "    if not onehot or bins<=2:\n",
    "        tgt_df[column_name] = desc\n",
    "    else:\n",
    "        tgt_df[column_name] = (desc==0)*1\n",
    "        for i in range(1,bins):\n",
    "            tgt_df[column_name+str(i)] = (desc==i)*1\n",
    "\n",
    "#discretize_pd(df, data, 'TotalAuthoredCommits', 3, True)"
   ]
  },
  {
   "cell_type": "code",
   "execution_count": 11,
   "metadata": {},
   "outputs": [],
   "source": [
    "# Binarization using scikit-learn. Not used\n",
    "def binarize(series):\n",
    "    binerizer = KBinsDiscretizer(n_bins=2, encode='onehot', strategy='quantile')\n",
    "    array = np.array(list(series)).reshape(-1,1)\n",
    "    binerizer.fit(array)\n",
    "    binarized = binerizer.transform(array)\n",
    "    bin_array = binarized.toarray()\n",
    "#     if bin_array.shape[1] == 1:\n",
    "#         return bin_array.T[0]\n",
    "#     else:\n",
    "    return binarized.toarray()[:,0]"
   ]
  },
  {
   "cell_type": "code",
   "execution_count": 12,
   "metadata": {},
   "outputs": [],
   "source": [
    "def num_of_question(s):\n",
    "    question_phrase = r'\\s[A-Za-z\\s]*\\?'\n",
    "    questions = re.findall(question_phrase, s)\n",
    "    return len(questions)"
   ]
  },
  {
   "cell_type": "code",
   "execution_count": 13,
   "metadata": {},
   "outputs": [],
   "source": [
    "def num_of_sentences(s):\n",
    "    sentence = r'([A-Z][^\\.!?]*[\\.!?])'\n",
    "    sentences = re.findall(sentence, s)\n",
    "    return len(sentences) if len(sentences) > 0 else 1"
   ]
  },
  {
   "cell_type": "code",
   "execution_count": 14,
   "metadata": {},
   "outputs": [],
   "source": [
    "def convert_datetime(s):\n",
    "    date_splitter = r'[\\s : -]'\n",
    "    l = re.split(date_splitter, s)\n",
    "    d = datetime.datetime(int(l[0]), int(l[1]), int(l[2]), int(l[3]), int(l[4]), int(l[5]))\n",
    "    return d"
   ]
  },
  {
   "cell_type": "code",
   "execution_count": 15,
   "metadata": {},
   "outputs": [],
   "source": [
    "def get_total_seconds(d):\n",
    "    return d.total_seconds()"
   ]
  },
  {
   "cell_type": "code",
   "execution_count": 16,
   "metadata": {},
   "outputs": [],
   "source": [
    "def readability_score(s):\n",
    "    return textstat.flesch_reading_ease(s)"
   ]
  },
  {
   "cell_type": "code",
   "execution_count": 17,
   "metadata": {},
   "outputs": [],
   "source": [
    "## Vectorization utility functions\n",
    "\n",
    "def state(c):\n",
    "    n = ord(c)\n",
    "    if n>=97 and n<=122: # lower case\n",
    "        return 1\n",
    "    elif n>=65 and n<=90: # upper case\n",
    "        return 2\n",
    "    elif n>=48 and n<=57: # numbers\n",
    "        return 3\n",
    "    elif c.isspace(): # whitespaces\n",
    "        return 4\n",
    "    elif c == '.': \n",
    "        return 5\n",
    "    elif n < 128:\n",
    "        return 6\n",
    "    else:\n",
    "        return 7\n",
    "\n",
    "def space_up(s):\n",
    "    if s is None or s == \"\":\n",
    "        return \"\"\n",
    "    new_s = s[0]\n",
    "    for i in range(1,len(s)):\n",
    "\n",
    "        prev_state = state(s[i-1])\n",
    "        curr_state = state(s[i])\n",
    "\n",
    "        if prev_state == 1 and curr_state not in [1,4]: \n",
    "            new_s += \" \"\n",
    "        elif prev_state == 2 and curr_state not in [1,2,4]:\n",
    "            new_s += \" \"\n",
    "        elif prev_state == 3 and curr_state not in [3,4]:\n",
    "            new_s += \" \"\n",
    "        elif prev_state == 6 and curr_state not in [6,4]:\n",
    "            new_s += \" \"\n",
    "        elif prev_state == 5 and curr_state != 4:\n",
    "            new_s += \" \"\n",
    "        elif curr_state==7:\n",
    "            continue\n",
    "\n",
    "        new_s+=s[i]\n",
    "\n",
    "    return new_s.lower()\n",
    "\n",
    "\n",
    "def clean_text(s):\n",
    "    '''\n",
    "    Removes all characters other than alphabets\n",
    "    Splits words with camel case, snake case\n",
    "    removes stop words, and common programming keywords\n",
    "    '''\n",
    "    regex = re.compile('[^a-zA-Z]')\n",
    "    s = regex.sub(' ', s)\n",
    "    s = space_up(s)\n",
    "    s = ' '.join([x for x in s.split() if x not in all_stop])\n",
    "    return s\n",
    "\n",
    "def clean_list(my_list):\n",
    "    return [clean_text(s) for s in my_list]\n",
    "\n",
    "def stem_tokens(tokens):\n",
    "    stemmed = []\n",
    "    for item in tokens:\n",
    "        stemmed.append(stemmer.stem(item))\n",
    "    return stemmed\n",
    "\n",
    "def tokenize_and_stem(text):\n",
    "    tokens = nltk.word_tokenize(text)\n",
    "    stems = stem_tokens(tokens)\n",
    "    return stems\n",
    "\n",
    "def is_gratitude(text):\n",
    "    gratitde_list = [\"thanks\", \"thank you\", \"appreciate\", \"was helpful\"]\n",
    "    for g in gratitde_list:\n",
    "        if g in text:\n",
    "            return 1\n",
    "    return 0"
   ]
  },
  {
   "cell_type": "code",
   "execution_count": 18,
   "metadata": {},
   "outputs": [],
   "source": [
    "def get_total_word_count(df):\n",
    "    return df['message'].apply(count_words)\n",
    "\n",
    "def get_coding_words_count(df):\n",
    "    return df['message'].apply(programmin_words_count)\n",
    "\n",
    "def get_stop_ratio(df):\n",
    "    return df['message'].apply(stopWordRatio)\n",
    "\n",
    "def get_num_of_sentences(df):\n",
    "    return df['message'].apply(num_of_sentences)\n",
    "\n",
    "def get_num_of_questions(df):\n",
    "    return df['message'].apply(num_of_question)\n",
    "\n",
    "def get_all_readability_scores(df):\n",
    "    readability_list= []\n",
    "    for message in df['message']:\n",
    "        try:\n",
    "            score = readability_score(message)\n",
    "        except:\n",
    "            score = 0\n",
    "        readability_list.append(score)\n",
    "    return np.array(readability_list)\n",
    "\n",
    "def get_gratitude(df):\n",
    "    return df['reply'].apply(is_gratitude)\n",
    "\n",
    "def get_code_ratio(df):\n",
    "    return df['programming_words']/df['word_count']\n",
    "\n",
    "def get_question_ratio(df):\n",
    "    d1 = get_num_of_questions(df)\n",
    "    d2 = get_num_of_sentences(df)\n",
    "    return d1/d2\n",
    "\n",
    "def get_all_delays(df):\n",
    "    d1 = df['comment_time'].apply(convert_datetime)\n",
    "    d2 = df['commit_time'].apply(convert_datetime)\n",
    "    diff = d1 - d2\n",
    "    diff = diff.apply(get_total_seconds)\n",
    "    diff = diff/60\n",
    "    diff = np.log2(diff)\n",
    "    diff[np.isnan(diff)] = 0\n",
    "    return np.rint(diff)"
   ]
  },
  {
   "cell_type": "code",
   "execution_count": 19,
   "metadata": {
    "scrolled": true
   },
   "outputs": [],
   "source": [
    "## Similarity Calculation\n",
    "\n",
    "stemmer = SnowballStemmer(\"english\")\n",
    "\n",
    "def get_similarity(df):\n",
    "    training_comments= clean_list(list(df.message)+list(df.current_code))\n",
    "    # discard stopwords, apply stemming, and discard words present in less than 3 comments\n",
    "    vectorizer = TfidfVectorizer(tokenizer=tokenize_and_stem, sublinear_tf=True, max_df=0.5,\n",
    "                                 stop_words=list(all_stop), min_df=3)\n",
    "    vectors = vectorizer.fit_transform(training_comments).toarray()\n",
    "    comment_vectors = vectors[:len(df)]\n",
    "    code_vectors = vectors[len(df):]\n",
    "    similarities = []\n",
    "    for i in range(len(df)):\n",
    "        similarities.append(np.dot(comment_vectors[i], code_vectors[i]))\n",
    "    return np.array(similarities)"
   ]
  },
  {
   "cell_type": "markdown",
   "metadata": {},
   "source": [
    "For details about SentiCR, please visit https://github.com/senticr/SentiCR"
   ]
  },
  {
   "cell_type": "markdown",
   "metadata": {},
   "source": [
    "## Feature Calculation"
   ]
  },
  {
   "cell_type": "code",
   "execution_count": 20,
   "metadata": {},
   "outputs": [],
   "source": [
    "data = pd.DataFrame()"
   ]
  },
  {
   "cell_type": "code",
   "execution_count": 21,
   "metadata": {
    "scrolled": true
   },
   "outputs": [
    {
     "name": "stderr",
     "output_type": "stream",
     "text": [
      "c:\\users\\hp\\appdata\\local\\programs\\python\\python36\\lib\\site-packages\\sklearn\\feature_extraction\\text.py:300: UserWarning: Your stop_words may be inconsistent with your preprocessing. Tokenizing the stop words generated tokens ['#', '%', \"'d\", \"'m\", \"'s\", '(', ')', '.', '.pi', '[', ']', '_pack', 'abl', 'abov', 'accord', 'actual', 'ad', 'adopt', 'affect', 'afterward', 'ai', 'alon', 'alongsid', 'alreadi', 'alway', 'ani', 'announc', 'anoth', 'anybodi', 'anymor', 'anyon', 'anyth', 'anywher', 'appar', 'appreci', 'appropri', 'approxim', 'aris', 'asid', 'associ', 'associatedtyp', 'avail', 'aw', 'becam', 'becaus', 'becom', 'befor', 'believ', 'besid', 'briefli', 'caus', 'chang', 'clear', 'colorliter', 'column', 'comput', 'concern', 'consequ', 'consid', 'continu', 'conveni', 'correspond', 'cours', 'cri', 'current', 'defin', 'definit', 'deleg', 'delet', 'describ', 'despit', 'didset', 'differ', 'direct', 'doe', 'doubl', 'downward', 'dure', 'dynam', 'eighti', 'els', 'elsewher', 'empti', 'endwhil', 'entir', 'entri', 'error', 'especi', 'everi', 'evermor', 'everybodi', 'everyon', 'everyth', 'everywher', 'exact', 'exampl', 'extend', 'extens', 'fair', 'fals', 'fifi', 'file', 'fileid', 'fileliter', 'filepath', 'filepriv', 'follow', 'forev', 'forti', 'furthermor', 'goe', 'greet', 'happen', 'hard', 'henc', 'hereaft', 'herebi', 'hims', 'hope', 'howev', 'hundr', 'ignor', 'imageliter', 'immedi', 'implement', 'includ', 'inde', 'indic', 'inform', 'inlin', 'insid', 'int_max', 'int_min', 'integ', 'interfac', 'intern', 'invent', 'key', 'larg', 'late', 'lazi', 'lf', 'likewis', 'littl', 'll', 'mani', 'max_rand', 'mayb', 'meantim', 'meanwhil', 'memcpi', 'mere', 'moreov', 'mutabl', 'mutat', 'myse', \"n't\", 'namespac', 'nativ', 'necessari', 'necessarili', 'newlin', 'nineti', 'no-on', 'nobodi', 'nonmut', 'noon', 'normal', 'note', 'noth', 'notwithstand', 'nowher', 'obvious', 'omit', 'onc', 'onli', 'oper', 'opposit', 'option', 'otherwis', 'ourselv', 'outsid', 'overal', 'overrid', 'owe', 'packag', 'paramet', 'perhap', 'place', 'pleas', 'poor', 'possibl', 'potenti', 'preced', 'predomin', 'presum', 'previous', 'primarili', 'privat', 'probabl', 'prompt', 'protect', 'provid', 'quick', 'quit', 'rais', 'readili', 'readon', 'realli', 'reason', 'regard', 'regist', 'relat', 'requir', 'respect', 'result', 'rethrow', 'selector', 'selv', 'sensibl', 'sever', 'sha', 'sign', 'signific', 'sinc', 'sincer', 'sixti', 'slight', 'somebodi', 'someon', 'someth', 'sometim', 'somewher', 'sorri', 'sourceloc', 'specif', 'specifi', 'staticindentloopsize_t', 'strong', 'substanti', 'success', 'suffici', 'synchron', 'templat', 'tend', 'themselv', 'thenc', 'thereaft', 'therebi', 'therefor', 'therer', 'theyr', 'thirti', 'togeth', 'tri', 'truli', 'twelv', 'twenti', 'type', 'typealia', 'typenam', 'undo', 'unfortun', 'unlik', 'unown', 'unsign', 'upward', 'usual', 'valu', 'variabl', 've', 'veri', 'volatil', 'warn', 'welcom', 'whatev', 'whenc', 'whenev', 'wherea', 'whereaft', 'wherebi', 'wherev', 'whi', 'whichev', 'whomev', 'wide', 'willset', 'wo', 'word', 'yourselv', 'zu', '{', '}', '”'] not in stop_words.\n",
      "  'stop_words.' % sorted(inconsistent))\n",
      "c:\\users\\hp\\appdata\\local\\programs\\python\\python36\\lib\\site-packages\\ipykernel_launcher.py:43: RuntimeWarning: invalid value encountered in log2\n"
     ]
    }
   ],
   "source": [
    "# Binary features\n",
    "data['message_sentiment'] = df['senticr_msg'] + 1\n",
    "data['reply_sentiment'] = df['senticr_rpl'] + 1\n",
    "data['change_trigger'] = df['change_status']\n",
    "data['status'] = df['status_num']\n",
    "data['is_confirmatory_response'] = df['is_confirmatory_response']\n",
    "data['gratitude'] = df['gratitude']\n",
    "data['is_last_patch'] = df['is_last_patch']\n",
    "data['author_responded'] = df['author_responded']\n",
    "data['label'] = df['label']\n",
    "\n",
    "# Neumeric Features\n",
    "data['patch_id'] = df['patch_id']\n",
    "data['num_patches'] = df['num_patches']\n",
    "data['line_change'] = df['line_change']\n",
    "data['num_comments_in_thread'] = df['num_comments_in_thread']\n",
    "data['num_participate'] = df['num_participate']\n",
    "data['num_prev_comment_same_file'] = df['num_prev_comment_same_file']\n",
    "data['rev_commits'] = df['rev_commits']\n",
    "data['dev_commits'] = df['dev_commits']\n",
    "data['num_review_comment'] = df['num_review_comment']\n",
    "data['author_file_experience'] = df['author_file_experience']\n",
    "\n",
    "## Calculating new features from data\n",
    "data['readability'] = get_all_readability_scores(df)\n",
    "data['programming_words'] = get_coding_words_count(df)\n",
    "data['word_count'] = get_total_word_count(df)\n",
    "data['question_ratio'] = get_num_of_questions(df)\n",
    "data['similarity'] = get_similarity(df)\n",
    "data['review_interval'] = get_all_delays(df)\n",
    "data['stop_word_ratio'] = get_stop_ratio(df)\n",
    "data['code_word_ratio'] = get_coding_words_count(df)/get_total_word_count(df)"
   ]
  },
  {
   "cell_type": "code",
   "execution_count": 22,
   "metadata": {},
   "outputs": [],
   "source": [
    "data = data.reindex(sorted(data.columns), axis=1)"
   ]
  },
  {
   "cell_type": "markdown",
   "metadata": {},
   "source": [
    "## Correlation elimination"
   ]
  },
  {
   "cell_type": "code",
   "execution_count": 23,
   "metadata": {
    "scrolled": true
   },
   "outputs": [
    {
     "data": {
      "text/html": [
       "<div>\n",
       "<style scoped>\n",
       "    .dataframe tbody tr th:only-of-type {\n",
       "        vertical-align: middle;\n",
       "    }\n",
       "\n",
       "    .dataframe tbody tr th {\n",
       "        vertical-align: top;\n",
       "    }\n",
       "\n",
       "    .dataframe thead th {\n",
       "        text-align: right;\n",
       "    }\n",
       "</style>\n",
       "<table border=\"1\" class=\"dataframe\">\n",
       "  <thead>\n",
       "    <tr style=\"text-align: right;\">\n",
       "      <th></th>\n",
       "      <th>author_file_experience</th>\n",
       "      <th>author_responded</th>\n",
       "      <th>change_trigger</th>\n",
       "      <th>code_word_ratio</th>\n",
       "      <th>dev_commits</th>\n",
       "      <th>gratitude</th>\n",
       "      <th>is_confirmatory_response</th>\n",
       "      <th>is_last_patch</th>\n",
       "      <th>label</th>\n",
       "      <th>line_change</th>\n",
       "      <th>...</th>\n",
       "      <th>programming_words</th>\n",
       "      <th>question_ratio</th>\n",
       "      <th>readability</th>\n",
       "      <th>reply_sentiment</th>\n",
       "      <th>rev_commits</th>\n",
       "      <th>review_interval</th>\n",
       "      <th>similarity</th>\n",
       "      <th>status</th>\n",
       "      <th>stop_word_ratio</th>\n",
       "      <th>word_count</th>\n",
       "    </tr>\n",
       "  </thead>\n",
       "  <tbody>\n",
       "    <tr>\n",
       "      <th>author_file_experience</th>\n",
       "      <td>1.000000</td>\n",
       "      <td>0.072970</td>\n",
       "      <td>0.031368</td>\n",
       "      <td>-0.024134</td>\n",
       "      <td>-0.080849</td>\n",
       "      <td>0.083186</td>\n",
       "      <td>0.055983</td>\n",
       "      <td>0.028118</td>\n",
       "      <td>0.022155</td>\n",
       "      <td>-0.030421</td>\n",
       "      <td>...</td>\n",
       "      <td>0.043718</td>\n",
       "      <td>-0.009588</td>\n",
       "      <td>0.006777</td>\n",
       "      <td>0.020412</td>\n",
       "      <td>0.103002</td>\n",
       "      <td>0.017618</td>\n",
       "      <td>-0.004331</td>\n",
       "      <td>-0.075564</td>\n",
       "      <td>0.006047</td>\n",
       "      <td>0.037504</td>\n",
       "    </tr>\n",
       "    <tr>\n",
       "      <th>author_responded</th>\n",
       "      <td>0.072970</td>\n",
       "      <td>1.000000</td>\n",
       "      <td>0.123774</td>\n",
       "      <td>-0.043459</td>\n",
       "      <td>0.010639</td>\n",
       "      <td>0.269958</td>\n",
       "      <td>0.791638</td>\n",
       "      <td>-0.154399</td>\n",
       "      <td>-0.058850</td>\n",
       "      <td>-0.125480</td>\n",
       "      <td>...</td>\n",
       "      <td>-0.042584</td>\n",
       "      <td>0.076308</td>\n",
       "      <td>0.051382</td>\n",
       "      <td>-0.045729</td>\n",
       "      <td>-0.205808</td>\n",
       "      <td>0.095572</td>\n",
       "      <td>-0.032939</td>\n",
       "      <td>-0.156716</td>\n",
       "      <td>-0.073112</td>\n",
       "      <td>-0.048347</td>\n",
       "    </tr>\n",
       "    <tr>\n",
       "      <th>change_trigger</th>\n",
       "      <td>0.031368</td>\n",
       "      <td>0.123774</td>\n",
       "      <td>1.000000</td>\n",
       "      <td>0.034230</td>\n",
       "      <td>-0.197294</td>\n",
       "      <td>0.097135</td>\n",
       "      <td>0.213936</td>\n",
       "      <td>-0.589189</td>\n",
       "      <td>0.021543</td>\n",
       "      <td>-0.992028</td>\n",
       "      <td>...</td>\n",
       "      <td>-0.021731</td>\n",
       "      <td>-0.090996</td>\n",
       "      <td>-0.057899</td>\n",
       "      <td>0.053606</td>\n",
       "      <td>-0.101297</td>\n",
       "      <td>-0.066132</td>\n",
       "      <td>-0.000597</td>\n",
       "      <td>-0.110833</td>\n",
       "      <td>-0.099302</td>\n",
       "      <td>-0.083421</td>\n",
       "    </tr>\n",
       "    <tr>\n",
       "      <th>code_word_ratio</th>\n",
       "      <td>-0.024134</td>\n",
       "      <td>-0.043459</td>\n",
       "      <td>0.034230</td>\n",
       "      <td>1.000000</td>\n",
       "      <td>0.074196</td>\n",
       "      <td>-0.146443</td>\n",
       "      <td>-0.044113</td>\n",
       "      <td>-0.031207</td>\n",
       "      <td>0.133075</td>\n",
       "      <td>-0.037069</td>\n",
       "      <td>...</td>\n",
       "      <td>0.489825</td>\n",
       "      <td>-0.039819</td>\n",
       "      <td>-0.492757</td>\n",
       "      <td>0.001549</td>\n",
       "      <td>0.220870</td>\n",
       "      <td>-0.062238</td>\n",
       "      <td>0.232529</td>\n",
       "      <td>0.202949</td>\n",
       "      <td>0.111198</td>\n",
       "      <td>0.009555</td>\n",
       "    </tr>\n",
       "    <tr>\n",
       "      <th>dev_commits</th>\n",
       "      <td>-0.080849</td>\n",
       "      <td>0.010639</td>\n",
       "      <td>-0.197294</td>\n",
       "      <td>0.074196</td>\n",
       "      <td>1.000000</td>\n",
       "      <td>-0.244620</td>\n",
       "      <td>-0.033510</td>\n",
       "      <td>0.106657</td>\n",
       "      <td>0.085166</td>\n",
       "      <td>0.199931</td>\n",
       "      <td>...</td>\n",
       "      <td>0.116320</td>\n",
       "      <td>0.096423</td>\n",
       "      <td>-0.056169</td>\n",
       "      <td>-0.058817</td>\n",
       "      <td>0.384971</td>\n",
       "      <td>-0.161630</td>\n",
       "      <td>0.164280</td>\n",
       "      <td>0.256601</td>\n",
       "      <td>0.095271</td>\n",
       "      <td>0.088585</td>\n",
       "    </tr>\n",
       "    <tr>\n",
       "      <th>gratitude</th>\n",
       "      <td>0.083186</td>\n",
       "      <td>0.269958</td>\n",
       "      <td>0.097135</td>\n",
       "      <td>-0.146443</td>\n",
       "      <td>-0.244620</td>\n",
       "      <td>1.000000</td>\n",
       "      <td>0.265943</td>\n",
       "      <td>-0.088919</td>\n",
       "      <td>-0.122149</td>\n",
       "      <td>-0.095239</td>\n",
       "      <td>...</td>\n",
       "      <td>-0.094633</td>\n",
       "      <td>0.006775</td>\n",
       "      <td>0.080439</td>\n",
       "      <td>0.002976</td>\n",
       "      <td>-0.299446</td>\n",
       "      <td>0.163650</td>\n",
       "      <td>-0.076191</td>\n",
       "      <td>-0.063916</td>\n",
       "      <td>0.033704</td>\n",
       "      <td>0.089199</td>\n",
       "    </tr>\n",
       "    <tr>\n",
       "      <th>is_confirmatory_response</th>\n",
       "      <td>0.055983</td>\n",
       "      <td>0.791638</td>\n",
       "      <td>0.213936</td>\n",
       "      <td>-0.044113</td>\n",
       "      <td>-0.033510</td>\n",
       "      <td>0.265943</td>\n",
       "      <td>1.000000</td>\n",
       "      <td>-0.146056</td>\n",
       "      <td>-0.002608</td>\n",
       "      <td>-0.217305</td>\n",
       "      <td>...</td>\n",
       "      <td>-0.063255</td>\n",
       "      <td>-0.106903</td>\n",
       "      <td>0.023929</td>\n",
       "      <td>0.113646</td>\n",
       "      <td>-0.210669</td>\n",
       "      <td>0.103736</td>\n",
       "      <td>-0.032589</td>\n",
       "      <td>-0.147848</td>\n",
       "      <td>-0.131807</td>\n",
       "      <td>-0.092655</td>\n",
       "    </tr>\n",
       "    <tr>\n",
       "      <th>is_last_patch</th>\n",
       "      <td>0.028118</td>\n",
       "      <td>-0.154399</td>\n",
       "      <td>-0.589189</td>\n",
       "      <td>-0.031207</td>\n",
       "      <td>0.106657</td>\n",
       "      <td>-0.088919</td>\n",
       "      <td>-0.146056</td>\n",
       "      <td>1.000000</td>\n",
       "      <td>0.037290</td>\n",
       "      <td>0.593934</td>\n",
       "      <td>...</td>\n",
       "      <td>-0.001760</td>\n",
       "      <td>0.034880</td>\n",
       "      <td>0.032005</td>\n",
       "      <td>0.017026</td>\n",
       "      <td>0.051236</td>\n",
       "      <td>0.161423</td>\n",
       "      <td>-0.011606</td>\n",
       "      <td>0.020429</td>\n",
       "      <td>0.048747</td>\n",
       "      <td>0.048540</td>\n",
       "    </tr>\n",
       "    <tr>\n",
       "      <th>label</th>\n",
       "      <td>0.022155</td>\n",
       "      <td>-0.058850</td>\n",
       "      <td>0.021543</td>\n",
       "      <td>0.133075</td>\n",
       "      <td>0.085166</td>\n",
       "      <td>-0.122149</td>\n",
       "      <td>-0.002608</td>\n",
       "      <td>0.037290</td>\n",
       "      <td>1.000000</td>\n",
       "      <td>-0.024712</td>\n",
       "      <td>...</td>\n",
       "      <td>0.099793</td>\n",
       "      <td>-0.009094</td>\n",
       "      <td>-0.072542</td>\n",
       "      <td>0.029072</td>\n",
       "      <td>0.102023</td>\n",
       "      <td>-0.049748</td>\n",
       "      <td>0.073622</td>\n",
       "      <td>0.102756</td>\n",
       "      <td>0.113978</td>\n",
       "      <td>0.141710</td>\n",
       "    </tr>\n",
       "    <tr>\n",
       "      <th>line_change</th>\n",
       "      <td>-0.030421</td>\n",
       "      <td>-0.125480</td>\n",
       "      <td>-0.992028</td>\n",
       "      <td>-0.037069</td>\n",
       "      <td>0.199931</td>\n",
       "      <td>-0.095239</td>\n",
       "      <td>-0.217305</td>\n",
       "      <td>0.593934</td>\n",
       "      <td>-0.024712</td>\n",
       "      <td>1.000000</td>\n",
       "      <td>...</td>\n",
       "      <td>0.021278</td>\n",
       "      <td>0.089473</td>\n",
       "      <td>0.055221</td>\n",
       "      <td>-0.054649</td>\n",
       "      <td>0.097944</td>\n",
       "      <td>0.062825</td>\n",
       "      <td>0.004188</td>\n",
       "      <td>0.108025</td>\n",
       "      <td>0.097679</td>\n",
       "      <td>0.085265</td>\n",
       "    </tr>\n",
       "    <tr>\n",
       "      <th>message_sentiment</th>\n",
       "      <td>-0.002453</td>\n",
       "      <td>0.006943</td>\n",
       "      <td>0.049639</td>\n",
       "      <td>0.090012</td>\n",
       "      <td>0.059894</td>\n",
       "      <td>-0.032503</td>\n",
       "      <td>0.068825</td>\n",
       "      <td>-0.025489</td>\n",
       "      <td>0.003679</td>\n",
       "      <td>-0.051925</td>\n",
       "      <td>...</td>\n",
       "      <td>0.030034</td>\n",
       "      <td>-0.322600</td>\n",
       "      <td>-0.048679</td>\n",
       "      <td>0.078406</td>\n",
       "      <td>0.040207</td>\n",
       "      <td>-0.042149</td>\n",
       "      <td>-0.028199</td>\n",
       "      <td>-0.007799</td>\n",
       "      <td>-0.087003</td>\n",
       "      <td>-0.104382</td>\n",
       "    </tr>\n",
       "    <tr>\n",
       "      <th>num_comments_in_thread</th>\n",
       "      <td>0.060192</td>\n",
       "      <td>0.931157</td>\n",
       "      <td>0.087810</td>\n",
       "      <td>-0.049547</td>\n",
       "      <td>0.017406</td>\n",
       "      <td>0.242842</td>\n",
       "      <td>0.732769</td>\n",
       "      <td>-0.116540</td>\n",
       "      <td>-0.056223</td>\n",
       "      <td>-0.088954</td>\n",
       "      <td>...</td>\n",
       "      <td>-0.039716</td>\n",
       "      <td>0.118364</td>\n",
       "      <td>0.052543</td>\n",
       "      <td>-0.119164</td>\n",
       "      <td>-0.187486</td>\n",
       "      <td>0.104379</td>\n",
       "      <td>-0.033545</td>\n",
       "      <td>-0.165277</td>\n",
       "      <td>-0.048972</td>\n",
       "      <td>-0.026334</td>\n",
       "    </tr>\n",
       "    <tr>\n",
       "      <th>num_participate</th>\n",
       "      <td>0.069612</td>\n",
       "      <td>0.874381</td>\n",
       "      <td>0.057370</td>\n",
       "      <td>-0.045772</td>\n",
       "      <td>0.031725</td>\n",
       "      <td>0.247191</td>\n",
       "      <td>0.708121</td>\n",
       "      <td>-0.082783</td>\n",
       "      <td>-0.071899</td>\n",
       "      <td>-0.058133</td>\n",
       "      <td>...</td>\n",
       "      <td>-0.015508</td>\n",
       "      <td>0.079838</td>\n",
       "      <td>0.052852</td>\n",
       "      <td>-0.107494</td>\n",
       "      <td>-0.177294</td>\n",
       "      <td>0.151671</td>\n",
       "      <td>-0.040202</td>\n",
       "      <td>-0.162226</td>\n",
       "      <td>-0.053685</td>\n",
       "      <td>0.005439</td>\n",
       "    </tr>\n",
       "    <tr>\n",
       "      <th>num_patches</th>\n",
       "      <td>-0.059269</td>\n",
       "      <td>0.184049</td>\n",
       "      <td>0.215429</td>\n",
       "      <td>0.133641</td>\n",
       "      <td>0.039532</td>\n",
       "      <td>0.046954</td>\n",
       "      <td>0.205461</td>\n",
       "      <td>-0.229785</td>\n",
       "      <td>-0.091870</td>\n",
       "      <td>-0.213940</td>\n",
       "      <td>...</td>\n",
       "      <td>0.102213</td>\n",
       "      <td>-0.015938</td>\n",
       "      <td>-0.081649</td>\n",
       "      <td>0.059662</td>\n",
       "      <td>-0.030096</td>\n",
       "      <td>0.192506</td>\n",
       "      <td>0.084614</td>\n",
       "      <td>0.211224</td>\n",
       "      <td>0.058779</td>\n",
       "      <td>-0.013930</td>\n",
       "    </tr>\n",
       "    <tr>\n",
       "      <th>num_prev_comment_same_file</th>\n",
       "      <td>0.104943</td>\n",
       "      <td>0.212123</td>\n",
       "      <td>0.085906</td>\n",
       "      <td>-0.179694</td>\n",
       "      <td>-0.290555</td>\n",
       "      <td>0.256917</td>\n",
       "      <td>0.256468</td>\n",
       "      <td>0.032685</td>\n",
       "      <td>-0.130723</td>\n",
       "      <td>-0.084095</td>\n",
       "      <td>...</td>\n",
       "      <td>-0.138574</td>\n",
       "      <td>-0.098445</td>\n",
       "      <td>0.086817</td>\n",
       "      <td>0.040741</td>\n",
       "      <td>-0.308864</td>\n",
       "      <td>0.096352</td>\n",
       "      <td>-0.157125</td>\n",
       "      <td>-0.521897</td>\n",
       "      <td>-0.274397</td>\n",
       "      <td>-0.089607</td>\n",
       "    </tr>\n",
       "    <tr>\n",
       "      <th>num_review_comment</th>\n",
       "      <td>-0.150926</td>\n",
       "      <td>-0.067188</td>\n",
       "      <td>-0.116123</td>\n",
       "      <td>0.042412</td>\n",
       "      <td>0.575316</td>\n",
       "      <td>-0.198761</td>\n",
       "      <td>-0.075179</td>\n",
       "      <td>0.072509</td>\n",
       "      <td>0.133936</td>\n",
       "      <td>0.116006</td>\n",
       "      <td>...</td>\n",
       "      <td>0.047229</td>\n",
       "      <td>0.036017</td>\n",
       "      <td>-0.018481</td>\n",
       "      <td>0.021055</td>\n",
       "      <td>-0.027553</td>\n",
       "      <td>-0.202080</td>\n",
       "      <td>0.105943</td>\n",
       "      <td>0.191913</td>\n",
       "      <td>0.028445</td>\n",
       "      <td>0.057781</td>\n",
       "    </tr>\n",
       "    <tr>\n",
       "      <th>patch_id</th>\n",
       "      <td>-0.057178</td>\n",
       "      <td>0.181860</td>\n",
       "      <td>0.049166</td>\n",
       "      <td>0.051634</td>\n",
       "      <td>0.112481</td>\n",
       "      <td>0.012083</td>\n",
       "      <td>0.166132</td>\n",
       "      <td>-0.027659</td>\n",
       "      <td>-0.051528</td>\n",
       "      <td>-0.046060</td>\n",
       "      <td>...</td>\n",
       "      <td>0.051099</td>\n",
       "      <td>0.027195</td>\n",
       "      <td>-0.043003</td>\n",
       "      <td>0.045237</td>\n",
       "      <td>-0.011228</td>\n",
       "      <td>0.139446</td>\n",
       "      <td>0.099791</td>\n",
       "      <td>0.238850</td>\n",
       "      <td>0.084665</td>\n",
       "      <td>0.031048</td>\n",
       "    </tr>\n",
       "    <tr>\n",
       "      <th>programming_words</th>\n",
       "      <td>0.043718</td>\n",
       "      <td>-0.042584</td>\n",
       "      <td>-0.021731</td>\n",
       "      <td>0.489825</td>\n",
       "      <td>0.116320</td>\n",
       "      <td>-0.094633</td>\n",
       "      <td>-0.063255</td>\n",
       "      <td>-0.001760</td>\n",
       "      <td>0.099793</td>\n",
       "      <td>0.021278</td>\n",
       "      <td>...</td>\n",
       "      <td>1.000000</td>\n",
       "      <td>0.071617</td>\n",
       "      <td>-0.441405</td>\n",
       "      <td>-0.035409</td>\n",
       "      <td>0.180463</td>\n",
       "      <td>0.016776</td>\n",
       "      <td>0.243983</td>\n",
       "      <td>0.147993</td>\n",
       "      <td>0.144389</td>\n",
       "      <td>0.552913</td>\n",
       "    </tr>\n",
       "    <tr>\n",
       "      <th>question_ratio</th>\n",
       "      <td>-0.009588</td>\n",
       "      <td>0.076308</td>\n",
       "      <td>-0.090996</td>\n",
       "      <td>-0.039819</td>\n",
       "      <td>0.096423</td>\n",
       "      <td>0.006775</td>\n",
       "      <td>-0.106903</td>\n",
       "      <td>0.034880</td>\n",
       "      <td>-0.009094</td>\n",
       "      <td>0.089473</td>\n",
       "      <td>...</td>\n",
       "      <td>0.071617</td>\n",
       "      <td>1.000000</td>\n",
       "      <td>0.065152</td>\n",
       "      <td>-0.196957</td>\n",
       "      <td>0.039775</td>\n",
       "      <td>0.030916</td>\n",
       "      <td>0.067936</td>\n",
       "      <td>0.075345</td>\n",
       "      <td>0.136196</td>\n",
       "      <td>0.177344</td>\n",
       "    </tr>\n",
       "    <tr>\n",
       "      <th>readability</th>\n",
       "      <td>0.006777</td>\n",
       "      <td>0.051382</td>\n",
       "      <td>-0.057899</td>\n",
       "      <td>-0.492757</td>\n",
       "      <td>-0.056169</td>\n",
       "      <td>0.080439</td>\n",
       "      <td>0.023929</td>\n",
       "      <td>0.032005</td>\n",
       "      <td>-0.072542</td>\n",
       "      <td>0.055221</td>\n",
       "      <td>...</td>\n",
       "      <td>-0.441405</td>\n",
       "      <td>0.065152</td>\n",
       "      <td>1.000000</td>\n",
       "      <td>-0.011392</td>\n",
       "      <td>-0.154224</td>\n",
       "      <td>0.028813</td>\n",
       "      <td>-0.262224</td>\n",
       "      <td>-0.086535</td>\n",
       "      <td>0.225477</td>\n",
       "      <td>-0.133551</td>\n",
       "    </tr>\n",
       "    <tr>\n",
       "      <th>reply_sentiment</th>\n",
       "      <td>0.020412</td>\n",
       "      <td>-0.045729</td>\n",
       "      <td>0.053606</td>\n",
       "      <td>0.001549</td>\n",
       "      <td>-0.058817</td>\n",
       "      <td>0.002976</td>\n",
       "      <td>0.113646</td>\n",
       "      <td>0.017026</td>\n",
       "      <td>0.029072</td>\n",
       "      <td>-0.054649</td>\n",
       "      <td>...</td>\n",
       "      <td>-0.035409</td>\n",
       "      <td>-0.196957</td>\n",
       "      <td>-0.011392</td>\n",
       "      <td>1.000000</td>\n",
       "      <td>-0.055367</td>\n",
       "      <td>0.056524</td>\n",
       "      <td>0.008610</td>\n",
       "      <td>0.019376</td>\n",
       "      <td>-0.031716</td>\n",
       "      <td>-0.046824</td>\n",
       "    </tr>\n",
       "    <tr>\n",
       "      <th>rev_commits</th>\n",
       "      <td>0.103002</td>\n",
       "      <td>-0.205808</td>\n",
       "      <td>-0.101297</td>\n",
       "      <td>0.220870</td>\n",
       "      <td>0.384971</td>\n",
       "      <td>-0.299446</td>\n",
       "      <td>-0.210669</td>\n",
       "      <td>0.051236</td>\n",
       "      <td>0.102023</td>\n",
       "      <td>0.097944</td>\n",
       "      <td>...</td>\n",
       "      <td>0.180463</td>\n",
       "      <td>0.039775</td>\n",
       "      <td>-0.154224</td>\n",
       "      <td>-0.055367</td>\n",
       "      <td>1.000000</td>\n",
       "      <td>-0.143916</td>\n",
       "      <td>0.153414</td>\n",
       "      <td>0.295928</td>\n",
       "      <td>0.118463</td>\n",
       "      <td>0.058225</td>\n",
       "    </tr>\n",
       "    <tr>\n",
       "      <th>review_interval</th>\n",
       "      <td>0.017618</td>\n",
       "      <td>0.095572</td>\n",
       "      <td>-0.066132</td>\n",
       "      <td>-0.062238</td>\n",
       "      <td>-0.161630</td>\n",
       "      <td>0.163650</td>\n",
       "      <td>0.103736</td>\n",
       "      <td>0.161423</td>\n",
       "      <td>-0.049748</td>\n",
       "      <td>0.062825</td>\n",
       "      <td>...</td>\n",
       "      <td>0.016776</td>\n",
       "      <td>0.030916</td>\n",
       "      <td>0.028813</td>\n",
       "      <td>0.056524</td>\n",
       "      <td>-0.143916</td>\n",
       "      <td>1.000000</td>\n",
       "      <td>-0.003428</td>\n",
       "      <td>-0.073828</td>\n",
       "      <td>-0.068330</td>\n",
       "      <td>0.045185</td>\n",
       "    </tr>\n",
       "    <tr>\n",
       "      <th>similarity</th>\n",
       "      <td>-0.004331</td>\n",
       "      <td>-0.032939</td>\n",
       "      <td>-0.000597</td>\n",
       "      <td>0.232529</td>\n",
       "      <td>0.164280</td>\n",
       "      <td>-0.076191</td>\n",
       "      <td>-0.032589</td>\n",
       "      <td>-0.011606</td>\n",
       "      <td>0.073622</td>\n",
       "      <td>0.004188</td>\n",
       "      <td>...</td>\n",
       "      <td>0.243983</td>\n",
       "      <td>0.067936</td>\n",
       "      <td>-0.262224</td>\n",
       "      <td>0.008610</td>\n",
       "      <td>0.153414</td>\n",
       "      <td>-0.003428</td>\n",
       "      <td>1.000000</td>\n",
       "      <td>0.164958</td>\n",
       "      <td>0.054240</td>\n",
       "      <td>0.222117</td>\n",
       "    </tr>\n",
       "    <tr>\n",
       "      <th>status</th>\n",
       "      <td>-0.075564</td>\n",
       "      <td>-0.156716</td>\n",
       "      <td>-0.110833</td>\n",
       "      <td>0.202949</td>\n",
       "      <td>0.256601</td>\n",
       "      <td>-0.063916</td>\n",
       "      <td>-0.147848</td>\n",
       "      <td>0.020429</td>\n",
       "      <td>0.102756</td>\n",
       "      <td>0.108025</td>\n",
       "      <td>...</td>\n",
       "      <td>0.147993</td>\n",
       "      <td>0.075345</td>\n",
       "      <td>-0.086535</td>\n",
       "      <td>0.019376</td>\n",
       "      <td>0.295928</td>\n",
       "      <td>-0.073828</td>\n",
       "      <td>0.164958</td>\n",
       "      <td>1.000000</td>\n",
       "      <td>0.311324</td>\n",
       "      <td>0.078610</td>\n",
       "    </tr>\n",
       "    <tr>\n",
       "      <th>stop_word_ratio</th>\n",
       "      <td>0.006047</td>\n",
       "      <td>-0.073112</td>\n",
       "      <td>-0.099302</td>\n",
       "      <td>0.111198</td>\n",
       "      <td>0.095271</td>\n",
       "      <td>0.033704</td>\n",
       "      <td>-0.131807</td>\n",
       "      <td>0.048747</td>\n",
       "      <td>0.113978</td>\n",
       "      <td>0.097679</td>\n",
       "      <td>...</td>\n",
       "      <td>0.144389</td>\n",
       "      <td>0.136196</td>\n",
       "      <td>0.225477</td>\n",
       "      <td>-0.031716</td>\n",
       "      <td>0.118463</td>\n",
       "      <td>-0.068330</td>\n",
       "      <td>0.054240</td>\n",
       "      <td>0.311324</td>\n",
       "      <td>1.000000</td>\n",
       "      <td>0.297759</td>\n",
       "    </tr>\n",
       "    <tr>\n",
       "      <th>word_count</th>\n",
       "      <td>0.037504</td>\n",
       "      <td>-0.048347</td>\n",
       "      <td>-0.083421</td>\n",
       "      <td>0.009555</td>\n",
       "      <td>0.088585</td>\n",
       "      <td>0.089199</td>\n",
       "      <td>-0.092655</td>\n",
       "      <td>0.048540</td>\n",
       "      <td>0.141710</td>\n",
       "      <td>0.085265</td>\n",
       "      <td>...</td>\n",
       "      <td>0.552913</td>\n",
       "      <td>0.177344</td>\n",
       "      <td>-0.133551</td>\n",
       "      <td>-0.046824</td>\n",
       "      <td>0.058225</td>\n",
       "      <td>0.045185</td>\n",
       "      <td>0.222117</td>\n",
       "      <td>0.078610</td>\n",
       "      <td>0.297759</td>\n",
       "      <td>1.000000</td>\n",
       "    </tr>\n",
       "  </tbody>\n",
       "</table>\n",
       "<p>27 rows × 27 columns</p>\n",
       "</div>"
      ],
      "text/plain": [
       "                            author_file_experience  author_responded  \\\n",
       "author_file_experience                    1.000000          0.072970   \n",
       "author_responded                          0.072970          1.000000   \n",
       "change_trigger                            0.031368          0.123774   \n",
       "code_word_ratio                          -0.024134         -0.043459   \n",
       "dev_commits                              -0.080849          0.010639   \n",
       "gratitude                                 0.083186          0.269958   \n",
       "is_confirmatory_response                  0.055983          0.791638   \n",
       "is_last_patch                             0.028118         -0.154399   \n",
       "label                                     0.022155         -0.058850   \n",
       "line_change                              -0.030421         -0.125480   \n",
       "message_sentiment                        -0.002453          0.006943   \n",
       "num_comments_in_thread                    0.060192          0.931157   \n",
       "num_participate                           0.069612          0.874381   \n",
       "num_patches                              -0.059269          0.184049   \n",
       "num_prev_comment_same_file                0.104943          0.212123   \n",
       "num_review_comment                       -0.150926         -0.067188   \n",
       "patch_id                                 -0.057178          0.181860   \n",
       "programming_words                         0.043718         -0.042584   \n",
       "question_ratio                           -0.009588          0.076308   \n",
       "readability                               0.006777          0.051382   \n",
       "reply_sentiment                           0.020412         -0.045729   \n",
       "rev_commits                               0.103002         -0.205808   \n",
       "review_interval                           0.017618          0.095572   \n",
       "similarity                               -0.004331         -0.032939   \n",
       "status                                   -0.075564         -0.156716   \n",
       "stop_word_ratio                           0.006047         -0.073112   \n",
       "word_count                                0.037504         -0.048347   \n",
       "\n",
       "                            change_trigger  code_word_ratio  dev_commits  \\\n",
       "author_file_experience            0.031368        -0.024134    -0.080849   \n",
       "author_responded                  0.123774        -0.043459     0.010639   \n",
       "change_trigger                    1.000000         0.034230    -0.197294   \n",
       "code_word_ratio                   0.034230         1.000000     0.074196   \n",
       "dev_commits                      -0.197294         0.074196     1.000000   \n",
       "gratitude                         0.097135        -0.146443    -0.244620   \n",
       "is_confirmatory_response          0.213936        -0.044113    -0.033510   \n",
       "is_last_patch                    -0.589189        -0.031207     0.106657   \n",
       "label                             0.021543         0.133075     0.085166   \n",
       "line_change                      -0.992028        -0.037069     0.199931   \n",
       "message_sentiment                 0.049639         0.090012     0.059894   \n",
       "num_comments_in_thread            0.087810        -0.049547     0.017406   \n",
       "num_participate                   0.057370        -0.045772     0.031725   \n",
       "num_patches                       0.215429         0.133641     0.039532   \n",
       "num_prev_comment_same_file        0.085906        -0.179694    -0.290555   \n",
       "num_review_comment               -0.116123         0.042412     0.575316   \n",
       "patch_id                          0.049166         0.051634     0.112481   \n",
       "programming_words                -0.021731         0.489825     0.116320   \n",
       "question_ratio                   -0.090996        -0.039819     0.096423   \n",
       "readability                      -0.057899        -0.492757    -0.056169   \n",
       "reply_sentiment                   0.053606         0.001549    -0.058817   \n",
       "rev_commits                      -0.101297         0.220870     0.384971   \n",
       "review_interval                  -0.066132        -0.062238    -0.161630   \n",
       "similarity                       -0.000597         0.232529     0.164280   \n",
       "status                           -0.110833         0.202949     0.256601   \n",
       "stop_word_ratio                  -0.099302         0.111198     0.095271   \n",
       "word_count                       -0.083421         0.009555     0.088585   \n",
       "\n",
       "                            gratitude  is_confirmatory_response  \\\n",
       "author_file_experience       0.083186                  0.055983   \n",
       "author_responded             0.269958                  0.791638   \n",
       "change_trigger               0.097135                  0.213936   \n",
       "code_word_ratio             -0.146443                 -0.044113   \n",
       "dev_commits                 -0.244620                 -0.033510   \n",
       "gratitude                    1.000000                  0.265943   \n",
       "is_confirmatory_response     0.265943                  1.000000   \n",
       "is_last_patch               -0.088919                 -0.146056   \n",
       "label                       -0.122149                 -0.002608   \n",
       "line_change                 -0.095239                 -0.217305   \n",
       "message_sentiment           -0.032503                  0.068825   \n",
       "num_comments_in_thread       0.242842                  0.732769   \n",
       "num_participate              0.247191                  0.708121   \n",
       "num_patches                  0.046954                  0.205461   \n",
       "num_prev_comment_same_file   0.256917                  0.256468   \n",
       "num_review_comment          -0.198761                 -0.075179   \n",
       "patch_id                     0.012083                  0.166132   \n",
       "programming_words           -0.094633                 -0.063255   \n",
       "question_ratio               0.006775                 -0.106903   \n",
       "readability                  0.080439                  0.023929   \n",
       "reply_sentiment              0.002976                  0.113646   \n",
       "rev_commits                 -0.299446                 -0.210669   \n",
       "review_interval              0.163650                  0.103736   \n",
       "similarity                  -0.076191                 -0.032589   \n",
       "status                      -0.063916                 -0.147848   \n",
       "stop_word_ratio              0.033704                 -0.131807   \n",
       "word_count                   0.089199                 -0.092655   \n",
       "\n",
       "                            is_last_patch     label  line_change  ...  \\\n",
       "author_file_experience           0.028118  0.022155    -0.030421  ...   \n",
       "author_responded                -0.154399 -0.058850    -0.125480  ...   \n",
       "change_trigger                  -0.589189  0.021543    -0.992028  ...   \n",
       "code_word_ratio                 -0.031207  0.133075    -0.037069  ...   \n",
       "dev_commits                      0.106657  0.085166     0.199931  ...   \n",
       "gratitude                       -0.088919 -0.122149    -0.095239  ...   \n",
       "is_confirmatory_response        -0.146056 -0.002608    -0.217305  ...   \n",
       "is_last_patch                    1.000000  0.037290     0.593934  ...   \n",
       "label                            0.037290  1.000000    -0.024712  ...   \n",
       "line_change                      0.593934 -0.024712     1.000000  ...   \n",
       "message_sentiment               -0.025489  0.003679    -0.051925  ...   \n",
       "num_comments_in_thread          -0.116540 -0.056223    -0.088954  ...   \n",
       "num_participate                 -0.082783 -0.071899    -0.058133  ...   \n",
       "num_patches                     -0.229785 -0.091870    -0.213940  ...   \n",
       "num_prev_comment_same_file       0.032685 -0.130723    -0.084095  ...   \n",
       "num_review_comment               0.072509  0.133936     0.116006  ...   \n",
       "patch_id                        -0.027659 -0.051528    -0.046060  ...   \n",
       "programming_words               -0.001760  0.099793     0.021278  ...   \n",
       "question_ratio                   0.034880 -0.009094     0.089473  ...   \n",
       "readability                      0.032005 -0.072542     0.055221  ...   \n",
       "reply_sentiment                  0.017026  0.029072    -0.054649  ...   \n",
       "rev_commits                      0.051236  0.102023     0.097944  ...   \n",
       "review_interval                  0.161423 -0.049748     0.062825  ...   \n",
       "similarity                      -0.011606  0.073622     0.004188  ...   \n",
       "status                           0.020429  0.102756     0.108025  ...   \n",
       "stop_word_ratio                  0.048747  0.113978     0.097679  ...   \n",
       "word_count                       0.048540  0.141710     0.085265  ...   \n",
       "\n",
       "                            programming_words  question_ratio  readability  \\\n",
       "author_file_experience               0.043718       -0.009588     0.006777   \n",
       "author_responded                    -0.042584        0.076308     0.051382   \n",
       "change_trigger                      -0.021731       -0.090996    -0.057899   \n",
       "code_word_ratio                      0.489825       -0.039819    -0.492757   \n",
       "dev_commits                          0.116320        0.096423    -0.056169   \n",
       "gratitude                           -0.094633        0.006775     0.080439   \n",
       "is_confirmatory_response            -0.063255       -0.106903     0.023929   \n",
       "is_last_patch                       -0.001760        0.034880     0.032005   \n",
       "label                                0.099793       -0.009094    -0.072542   \n",
       "line_change                          0.021278        0.089473     0.055221   \n",
       "message_sentiment                    0.030034       -0.322600    -0.048679   \n",
       "num_comments_in_thread              -0.039716        0.118364     0.052543   \n",
       "num_participate                     -0.015508        0.079838     0.052852   \n",
       "num_patches                          0.102213       -0.015938    -0.081649   \n",
       "num_prev_comment_same_file          -0.138574       -0.098445     0.086817   \n",
       "num_review_comment                   0.047229        0.036017    -0.018481   \n",
       "patch_id                             0.051099        0.027195    -0.043003   \n",
       "programming_words                    1.000000        0.071617    -0.441405   \n",
       "question_ratio                       0.071617        1.000000     0.065152   \n",
       "readability                         -0.441405        0.065152     1.000000   \n",
       "reply_sentiment                     -0.035409       -0.196957    -0.011392   \n",
       "rev_commits                          0.180463        0.039775    -0.154224   \n",
       "review_interval                      0.016776        0.030916     0.028813   \n",
       "similarity                           0.243983        0.067936    -0.262224   \n",
       "status                               0.147993        0.075345    -0.086535   \n",
       "stop_word_ratio                      0.144389        0.136196     0.225477   \n",
       "word_count                           0.552913        0.177344    -0.133551   \n",
       "\n",
       "                            reply_sentiment  rev_commits  review_interval  \\\n",
       "author_file_experience             0.020412     0.103002         0.017618   \n",
       "author_responded                  -0.045729    -0.205808         0.095572   \n",
       "change_trigger                     0.053606    -0.101297        -0.066132   \n",
       "code_word_ratio                    0.001549     0.220870        -0.062238   \n",
       "dev_commits                       -0.058817     0.384971        -0.161630   \n",
       "gratitude                          0.002976    -0.299446         0.163650   \n",
       "is_confirmatory_response           0.113646    -0.210669         0.103736   \n",
       "is_last_patch                      0.017026     0.051236         0.161423   \n",
       "label                              0.029072     0.102023        -0.049748   \n",
       "line_change                       -0.054649     0.097944         0.062825   \n",
       "message_sentiment                  0.078406     0.040207        -0.042149   \n",
       "num_comments_in_thread            -0.119164    -0.187486         0.104379   \n",
       "num_participate                   -0.107494    -0.177294         0.151671   \n",
       "num_patches                        0.059662    -0.030096         0.192506   \n",
       "num_prev_comment_same_file         0.040741    -0.308864         0.096352   \n",
       "num_review_comment                 0.021055    -0.027553        -0.202080   \n",
       "patch_id                           0.045237    -0.011228         0.139446   \n",
       "programming_words                 -0.035409     0.180463         0.016776   \n",
       "question_ratio                    -0.196957     0.039775         0.030916   \n",
       "readability                       -0.011392    -0.154224         0.028813   \n",
       "reply_sentiment                    1.000000    -0.055367         0.056524   \n",
       "rev_commits                       -0.055367     1.000000        -0.143916   \n",
       "review_interval                    0.056524    -0.143916         1.000000   \n",
       "similarity                         0.008610     0.153414        -0.003428   \n",
       "status                             0.019376     0.295928        -0.073828   \n",
       "stop_word_ratio                   -0.031716     0.118463        -0.068330   \n",
       "word_count                        -0.046824     0.058225         0.045185   \n",
       "\n",
       "                            similarity    status  stop_word_ratio  word_count  \n",
       "author_file_experience       -0.004331 -0.075564         0.006047    0.037504  \n",
       "author_responded             -0.032939 -0.156716        -0.073112   -0.048347  \n",
       "change_trigger               -0.000597 -0.110833        -0.099302   -0.083421  \n",
       "code_word_ratio               0.232529  0.202949         0.111198    0.009555  \n",
       "dev_commits                   0.164280  0.256601         0.095271    0.088585  \n",
       "gratitude                    -0.076191 -0.063916         0.033704    0.089199  \n",
       "is_confirmatory_response     -0.032589 -0.147848        -0.131807   -0.092655  \n",
       "is_last_patch                -0.011606  0.020429         0.048747    0.048540  \n",
       "label                         0.073622  0.102756         0.113978    0.141710  \n",
       "line_change                   0.004188  0.108025         0.097679    0.085265  \n",
       "message_sentiment            -0.028199 -0.007799        -0.087003   -0.104382  \n",
       "num_comments_in_thread       -0.033545 -0.165277        -0.048972   -0.026334  \n",
       "num_participate              -0.040202 -0.162226        -0.053685    0.005439  \n",
       "num_patches                   0.084614  0.211224         0.058779   -0.013930  \n",
       "num_prev_comment_same_file   -0.157125 -0.521897        -0.274397   -0.089607  \n",
       "num_review_comment            0.105943  0.191913         0.028445    0.057781  \n",
       "patch_id                      0.099791  0.238850         0.084665    0.031048  \n",
       "programming_words             0.243983  0.147993         0.144389    0.552913  \n",
       "question_ratio                0.067936  0.075345         0.136196    0.177344  \n",
       "readability                  -0.262224 -0.086535         0.225477   -0.133551  \n",
       "reply_sentiment               0.008610  0.019376        -0.031716   -0.046824  \n",
       "rev_commits                   0.153414  0.295928         0.118463    0.058225  \n",
       "review_interval              -0.003428 -0.073828        -0.068330    0.045185  \n",
       "similarity                    1.000000  0.164958         0.054240    0.222117  \n",
       "status                        0.164958  1.000000         0.311324    0.078610  \n",
       "stop_word_ratio               0.054240  0.311324         1.000000    0.297759  \n",
       "word_count                    0.222117  0.078610         0.297759    1.000000  \n",
       "\n",
       "[27 rows x 27 columns]"
      ]
     },
     "execution_count": 23,
     "metadata": {},
     "output_type": "execute_result"
    }
   ],
   "source": [
    "data.corr(method='pearson')"
   ]
  },
  {
   "cell_type": "markdown",
   "metadata": {},
   "source": [
    "### Correlation visualization"
   ]
  },
  {
   "cell_type": "code",
   "execution_count": 25,
   "metadata": {
    "scrolled": true
   },
   "outputs": [
    {
     "data": {
      "text/plain": [
       "<matplotlib.axes._subplots.AxesSubplot at 0x23b7d536be0>"
      ]
     },
     "execution_count": 25,
     "metadata": {},
     "output_type": "execute_result"
    },
    {
     "data": {
      "image/png": "[encoded data removed]",
      "text/plain": [
       "<Figure size 792x648 with 2 Axes>"
      ]
     },
     "metadata": {},
     "output_type": "display_data"
    }
   ],
   "source": [
    "import numpy as np\n",
    "import pandas as pd\n",
    "import seaborn as sns\n",
    "import matplotlib.pyplot as plt\n",
    "\n",
    "sns.set_theme(style=\"white\")\n",
    "\n",
    "# Generate a large random dataset\n",
    "\n",
    "# Compute the correlation matrix\n",
    "corr = data.corr(method='pearson')\n",
    "\n",
    "# Generate a mask for the upper triangle\n",
    "mask = np.triu(np.ones_like(corr, dtype=bool))\n",
    "\n",
    "# Set up the matplotlib figure\n",
    "f, ax = plt.subplots(figsize=(11, 9))\n",
    "\n",
    "# Generate a custom diverging colormap\n",
    "cmap = sns.diverging_palette(230, 20, as_cmap=True)\n",
    "\n",
    "# Draw the heatmap with the mask and correct aspect ratio\n",
    "sns.heatmap(corr, mask=mask, cmap=cmap, vmax=.3, center=0,\n",
    "            square=True, linewidths=.5, cbar_kws={\"shrink\": .5})\n"
   ]
  },
  {
   "cell_type": "markdown",
   "metadata": {},
   "source": [
    "### High correlation (>0.9) visualization"
   ]
  },
  {
   "cell_type": "code",
   "execution_count": 26,
   "metadata": {
    "scrolled": false
   },
   "outputs": [
    {
     "data": {
      "text/plain": [
       "<matplotlib.axes._subplots.AxesSubplot at 0x23b7d8811d0>"
      ]
     },
     "execution_count": 26,
     "metadata": {},
     "output_type": "execute_result"
    },
    {
     "data": {
      "image/png": "[encoded data removed]",
      "text/plain": [
       "<Figure size 792x648 with 2 Axes>"
      ]
     },
     "metadata": {},
     "output_type": "display_data"
    }
   ],
   "source": [
    "import numpy as np\n",
    "import pandas as pd\n",
    "import seaborn as sns\n",
    "import matplotlib.pyplot as plt\n",
    "\n",
    "sns.set_theme(style=\"white\")\n",
    "\n",
    "# Generate a large random dataset\n",
    "\n",
    "# Compute the correlation matrix\n",
    "corr2 = data.corr(method='pearson').abs() > 0.9\n",
    "\n",
    "# Generate a mask for the upper triangle\n",
    "mask = np.triu(np.ones_like(corr2, dtype=bool))\n",
    "\n",
    "# Set up the matplotlib figure\n",
    "f, ax = plt.subplots(figsize=(11, 9))\n",
    "\n",
    "# Generate a custom diverging colormap\n",
    "cmap = sns.diverging_palette(230, 20, as_cmap=True)\n",
    "\n",
    "# Draw the heatmap with the mask and correct aspect ratio\n",
    "sns.heatmap(corr2, mask=mask, cmap=cmap, vmax=.3, center=0,\n",
    "            square=True, linewidths=.5, cbar_kws={\"shrink\": .5})\n"
   ]
  },
  {
   "cell_type": "code",
   "execution_count": 27,
   "metadata": {
    "scrolled": true
   },
   "outputs": [
    {
     "data": {
      "text/plain": [
       "author_file_experience        0.022155\n",
       "author_responded             -0.058850\n",
       "change_trigger                0.021543\n",
       "code_word_ratio               0.133075\n",
       "dev_commits                   0.085166\n",
       "gratitude                    -0.122149\n",
       "is_confirmatory_response     -0.002608\n",
       "is_last_patch                 0.037290\n",
       "label                         1.000000\n",
       "line_change                  -0.024712\n",
       "message_sentiment             0.003679\n",
       "num_comments_in_thread       -0.056223\n",
       "num_participate              -0.071899\n",
       "num_patches                  -0.091870\n",
       "num_prev_comment_same_file   -0.130723\n",
       "num_review_comment            0.133936\n",
       "patch_id                     -0.051528\n",
       "programming_words             0.099793\n",
       "question_ratio               -0.009094\n",
       "readability                  -0.072542\n",
       "reply_sentiment               0.029072\n",
       "rev_commits                   0.102023\n",
       "review_interval              -0.049748\n",
       "similarity                    0.073622\n",
       "status                        0.102756\n",
       "stop_word_ratio               0.113978\n",
       "word_count                    0.141710\n",
       "Name: label, dtype: float64"
      ]
     },
     "execution_count": 27,
     "metadata": {},
     "output_type": "execute_result"
    }
   ],
   "source": [
    "# Feature correlation with 'label'\n",
    "corr['label']"
   ]
  },
  {
   "cell_type": "markdown",
   "metadata": {},
   "source": [
    "### Remove Highly correlated features\n",
    "For two features highly (>0.9) correlated with each others, keep the one with highest correlation with 'label' and remove the others"
   ]
  },
  {
   "cell_type": "code",
   "execution_count": 28,
   "metadata": {
    "scrolled": false
   },
   "outputs": [
    {
     "name": "stdout",
     "output_type": "stream",
     "text": [
      "num_comments_in_thread  =  -0.05622343268051367  removed, author_responded  =  -0.05884961325801251  selected.\n",
      "change_trigger  =  0.02154305885740504  removed, line_change  =  -0.024712063606343107  selected.\n"
     ]
    },
    {
     "data": {
      "text/plain": [
       "['change_trigger', 'num_comments_in_thread']"
      ]
     },
     "execution_count": 28,
     "metadata": {},
     "output_type": "execute_result"
    }
   ],
   "source": [
    "rejected_feature_list = []\n",
    "key_list = list(data.keys())\n",
    "for i in range(len(key_list)):\n",
    "    key1 = key_list[i]\n",
    "    for key2 in key_list[i+1:]:\n",
    "        if abs(corr[key1][key2]) > 0.9:\n",
    "            key1_score = corr['label'][key1]\n",
    "            key2_score = corr['label'][key2]\n",
    "            if abs(key1_score) >= abs(key2_score):\n",
    "                print(key2, \" = \", key2_score, \" removed,\", key1, \" = \", key1_score, \" selected.\")\n",
    "                rejected_feature_list.append(key2)\n",
    "            else:\n",
    "                print(key1, \" = \", key1_score, \" removed,\", key2, \" = \", key2_score, \" selected.\")\n",
    "                rejected_feature_list.append(key1)\n",
    "\n",
    "rejected_feature_list = list(set(rejected_feature_list))\n",
    "rejected_feature_list"
   ]
  },
  {
   "cell_type": "markdown",
   "metadata": {},
   "source": [
    "## Higly correlated feature clusters (highest correlation with label in bold)\n",
    "\n",
    "1. **line_change**, change_trigger\n",
    "1. num_comments_in_thread, **author_responded**"
   ]
  },
  {
   "cell_type": "code",
   "execution_count": 29,
   "metadata": {
    "scrolled": true
   },
   "outputs": [
    {
     "data": {
      "text/plain": [
       "Index(['author_file_experience', 'author_responded', 'change_trigger',\n",
       "       'code_word_ratio', 'dev_commits', 'gratitude',\n",
       "       'is_confirmatory_response', 'is_last_patch', 'label', 'line_change',\n",
       "       'message_sentiment', 'num_comments_in_thread', 'num_participate',\n",
       "       'num_patches', 'num_prev_comment_same_file', 'num_review_comment',\n",
       "       'patch_id', 'programming_words', 'question_ratio', 'readability',\n",
       "       'reply_sentiment', 'rev_commits', 'review_interval', 'similarity',\n",
       "       'status', 'stop_word_ratio', 'word_count'],\n",
       "      dtype='object')"
      ]
     },
     "execution_count": 29,
     "metadata": {},
     "output_type": "execute_result"
    }
   ],
   "source": [
    "data.keys()"
   ]
  },
  {
   "cell_type": "code",
   "execution_count": 30,
   "metadata": {
    "scrolled": false
   },
   "outputs": [
    {
     "data": {
      "text/plain": [
       "(['author_file_experience',\n",
       "  'author_responded',\n",
       "  'code_word_ratio',\n",
       "  'dev_commits',\n",
       "  'gratitude',\n",
       "  'is_confirmatory_response',\n",
       "  'is_last_patch',\n",
       "  'line_change',\n",
       "  'message_sentiment',\n",
       "  'num_participate',\n",
       "  'num_patches',\n",
       "  'num_prev_comment_same_file',\n",
       "  'num_review_comment',\n",
       "  'patch_id',\n",
       "  'programming_words',\n",
       "  'question_ratio',\n",
       "  'readability',\n",
       "  'reply_sentiment',\n",
       "  'rev_commits',\n",
       "  'review_interval',\n",
       "  'similarity',\n",
       "  'status',\n",
       "  'stop_word_ratio',\n",
       "  'word_count'],\n",
       " 24)"
      ]
     },
     "execution_count": 30,
     "metadata": {},
     "output_type": "execute_result"
    }
   ],
   "source": [
    "correlation_eliminated_features = list(set(list(data.keys())) - set(rejected_feature_list + ['label']))\n",
    "correlation_eliminated_features.sort()\n",
    "correlation_eliminated_features, len(correlation_eliminated_features)"
   ]
  },
  {
   "cell_type": "markdown",
   "metadata": {},
   "source": [
    "## Discretization"
   ]
  },
  {
   "cell_type": "code",
   "execution_count": 31,
   "metadata": {},
   "outputs": [],
   "source": [
    "# Discretizing neumeric features\n",
    "discretize_pd(data, data, 'rev_commits', 2, False)\n",
    "discretize_pd(data, data, 'dev_commits', 2, False)\n",
    "#discretize_pd(data, data, 'num_review_comment', 2, False)\n",
    "discretize_pd(data, data, 'readability', 2, False)\n",
    "#discretize_pd(data, data, 'word_count', 2, False)\n",
    "discretize_pd(data, data, 'review_interval', 2, False)\n",
    "discretize_pd(data, data, 'stop_word_ratio', 2, False)\n",
    "discretize_pd(data, data, 'author_file_experience', 2, False)\n",
    "\n",
    "# Cannot be discretized with k-beans\n",
    "data['code_word_ratio'] = (data['code_word_ratio'] > 0)*1 \n",
    "data['question_ratio'] = (data['question_ratio']!= 0)*1 \n",
    "data['similarity'] = (data['similarity']!= 0)*1  \n",
    "#data['programming_words'] = (data['programming_words'] != 0)*1"
   ]
  },
  {
   "cell_type": "code",
   "execution_count": 32,
   "metadata": {},
   "outputs": [],
   "source": [
    "### SAVE AND LOAD ALREADY PROCESSED DATA IF NECESSARY\n",
    "\n",
    "data.to_csv('data/neat_data_processed.csv', index=False) # Dump processed data\n",
    "# data = pd.read_csv('data/neat_data_processed.csv') # Load processed data"
   ]
  },
  {
   "cell_type": "markdown",
   "metadata": {},
   "source": [
    "# Classification"
   ]
  },
  {
   "cell_type": "code",
   "execution_count": 33,
   "metadata": {
    "scrolled": true
   },
   "outputs": [
    {
     "name": "stderr",
     "output_type": "stream",
     "text": [
      "c:\\users\\hp\\appdata\\local\\programs\\python\\python36\\lib\\site-packages\\sklearn\\externals\\six.py:31: DeprecationWarning: The module is deprecated in version 0.21 and will be removed in version 0.23 since we've dropped support for Python 2.7. Please rely on the official version of six (https://pypi.org/project/six/).\n",
      "  \"(https://pypi.org/project/six/).\", DeprecationWarning)\n"
     ]
    }
   ],
   "source": [
    "from __future__ import print_function\n",
    "import numpy as np\n",
    "import pandas as pd\n",
    "from sklearn import  tree\n",
    "import  pydotplus\n",
    "\n",
    "from sklearn.model_selection import KFold\n",
    "from sklearn.metrics import accuracy_score\n",
    "from sklearn.metrics import recall_score\n",
    "from sklearn.metrics import  precision_score\n",
    "from sklearn.metrics import  f1_score\n",
    "from statistics import mean\n",
    "import random\n",
    "\n",
    "from sklearn.feature_selection import SelectKBest, chi2\n",
    "from sklearn.ensemble import  RandomForestClassifier\n",
    "from sklearn.ensemble import AdaBoostClassifier\n",
    "from sklearn.ensemble import GradientBoostingClassifier\n",
    "from sklearn.svm import  LinearSVC\n",
    "from sklearn.neural_network import MLPClassifier\n",
    "from sklearn.linear_model import LogisticRegression, LinearRegression\n",
    "from xgboost import XGBClassifier\n",
    "\n",
    "from imblearn.over_sampling import SMOTE, RandomOverSampler\n",
    "\n",
    "import warnings\n",
    "warnings.filterwarnings(\"ignore\")"
   ]
  },
  {
   "cell_type": "code",
   "execution_count": 48,
   "metadata": {},
   "outputs": [],
   "source": [
    "dt = tree.DecisionTreeClassifier()\n",
    "rf = RandomForestClassifier(n_estimators=100 )\n",
    "svm = LinearSVC()\n",
    "nn  = MLPClassifier(alpha=1e-3, hidden_layer_sizes=(500,5), random_state=1)\n",
    "xgb = XGBClassifier()\n",
    "log = LogisticRegression()\n",
    "#lin = LinearRegression()\n",
    "\n",
    "clfs = [dt, rf, svm, nn, xgb, log]\n",
    "clf_names = ['\\\\textbf{Decision Tree}', '\\\\textbf{Random Forest}', '\\\\textbf{SVM}', \n",
    "             '\\\\textbf{Neural Network}', '\\\\textbf{XGBoost}', '\\\\textbf{Logistic Regression}']"
   ]
  },
  {
   "cell_type": "markdown",
   "metadata": {},
   "source": [
    "## Recursive Feature Elimination by Cross Validation (RFECV)"
   ]
  },
  {
   "cell_type": "code",
   "execution_count": 35,
   "metadata": {
    "scrolled": true
   },
   "outputs": [
    {
     "data": {
      "text/plain": [
       "RFECV(cv=StratifiedKFold(n_splits=10, random_state=None, shuffle=False),\n",
       "      estimator=RandomForestClassifier(bootstrap=True, class_weight=None,\n",
       "                                       criterion='gini', max_depth=None,\n",
       "                                       max_features='auto', max_leaf_nodes=None,\n",
       "                                       min_impurity_decrease=0.0,\n",
       "                                       min_impurity_split=None,\n",
       "                                       min_samples_leaf=1, min_samples_split=2,\n",
       "                                       min_weight_fraction_leaf=0.0,\n",
       "                                       n_estimators=100, n_jobs=None,\n",
       "                                       oob_score=False, random_state=None,\n",
       "                                       verbose=0, warm_start=False),\n",
       "      min_features_to_select=1, n_jobs=None, scoring='f1_macro', step=1,\n",
       "      verbose=0)"
      ]
     },
     "execution_count": 35,
     "metadata": {},
     "output_type": "execute_result"
    }
   ],
   "source": [
    "rfecv = RFECV(estimator=rf, step=1, cv=StratifiedKFold(10), scoring='f1_macro')\n",
    "rfecv.fit(data[correlation_eliminated_features], data[['label']])"
   ]
  },
  {
   "cell_type": "code",
   "execution_count": 36,
   "metadata": {
    "scrolled": false
   },
   "outputs": [
    {
     "data": {
      "image/png": "[encoded data removed]",
      "text/plain": [
       "<Figure size 720x432 with 1 Axes>"
      ]
     },
     "metadata": {},
     "output_type": "display_data"
    }
   ],
   "source": [
    "plt.figure(figsize=(10, 6))\n",
    "plt.title('Recursive Feature Elimination with Cross-Validation', fontsize=18, fontweight='bold', pad=20)\n",
    "plt.xlabel('Number of features selected', fontsize=14, labelpad=20)\n",
    "plt.ylabel('% Correct Classification', fontsize=14, labelpad=20)\n",
    "plt.plot(range(1, len(rfecv.grid_scores_) + 1), rfecv.grid_scores_, color='#303F9F', linewidth=3)\n",
    "\n",
    "plt.show()"
   ]
  },
  {
   "cell_type": "code",
   "execution_count": 38,
   "metadata": {},
   "outputs": [
    {
     "data": {
      "text/plain": [
       "23"
      ]
     },
     "execution_count": 38,
     "metadata": {},
     "output_type": "execute_result"
    }
   ],
   "source": [
    "## Number of features selected\n",
    "rfecv.n_features_"
   ]
  },
  {
   "cell_type": "code",
   "execution_count": 39,
   "metadata": {
    "scrolled": true
   },
   "outputs": [
    {
     "name": "stdout",
     "output_type": "stream",
     "text": [
      "author_file_experience \t True \t 1\n",
      "author_responded \t True \t 1\n",
      "code_word_ratio \t True \t 1\n",
      "dev_commits \t True \t 1\n",
      "gratitude \t True \t 1\n",
      "is_confirmatory_response \t True \t 1\n",
      "is_last_patch \t True \t 1\n",
      "line_change \t True \t 1\n",
      "message_sentiment \t True \t 1\n",
      "num_participate \t True \t 1\n",
      "num_patches \t True \t 1\n",
      "num_prev_comment_same_file \t True \t 1\n",
      "num_review_comment \t True \t 1\n",
      "patch_id \t True \t 1\n",
      "programming_words \t True \t 1\n",
      "question_ratio \t True \t 1\n",
      "readability \t True \t 1\n",
      "reply_sentiment \t False \t 2\n",
      "rev_commits \t True \t 1\n",
      "review_interval \t True \t 1\n",
      "similarity \t True \t 1\n",
      "status \t True \t 1\n",
      "stop_word_ratio \t True \t 1\n",
      "word_count \t True \t 1\n"
     ]
    }
   ],
   "source": [
    "selected_features = []\n",
    "for i in range(len(correlation_eliminated_features)):\n",
    "    print(correlation_eliminated_features[i],\"\\t\",rfecv.support_[i],\"\\t\",rfecv.ranking_[i])\n",
    "    if rfecv.support_[i]==True:\n",
    "        selected_features += [correlation_eliminated_features[i]]"
   ]
  },
  {
   "cell_type": "code",
   "execution_count": 40,
   "metadata": {
    "scrolled": false
   },
   "outputs": [
    {
     "data": {
      "text/plain": [
       "['author_file_experience',\n",
       " 'author_responded',\n",
       " 'code_word_ratio',\n",
       " 'dev_commits',\n",
       " 'gratitude',\n",
       " 'is_confirmatory_response',\n",
       " 'is_last_patch',\n",
       " 'line_change',\n",
       " 'message_sentiment',\n",
       " 'num_participate',\n",
       " 'num_patches',\n",
       " 'num_prev_comment_same_file',\n",
       " 'num_review_comment',\n",
       " 'patch_id',\n",
       " 'programming_words',\n",
       " 'question_ratio',\n",
       " 'readability',\n",
       " 'rev_commits',\n",
       " 'review_interval',\n",
       " 'similarity',\n",
       " 'status',\n",
       " 'stop_word_ratio',\n",
       " 'word_count']"
      ]
     },
     "execution_count": 40,
     "metadata": {},
     "output_type": "execute_result"
    }
   ],
   "source": [
    "selected_features"
   ]
  },
  {
   "cell_type": "markdown",
   "metadata": {},
   "source": [
    "## Machine Learning Classifier"
   ]
  },
  {
   "cell_type": "code",
   "execution_count": 41,
   "metadata": {},
   "outputs": [],
   "source": [
    "def normalize_df(df):\n",
    "    df_norm = (df - df.mean()) / (df.max() - df.min())\n",
    "    return df_norm\n",
    "\n",
    "def row_norm(df):\n",
    "    norm = df/np.sqrt(np.square(df).sum(axis=1))\n",
    "    return norm\n",
    "\n",
    "def standardize_df(df):\n",
    "    a = 1\n",
    "    df_norm = (df - df.mean(axis=a)) / df.std(axis=a)\n",
    "    return df_norm\n",
    "\n",
    "def benchmark_classifier(clf, X_train, Y_train, X_test, Y_test):\n",
    "    clf.fit(X_train, Y_train)\n",
    "    pred = clf.predict(X_test)\n",
    "    \n",
    "    precision=precision_score(Y_test,pred, pos_label=1) #average=\"micro\")\n",
    "    recall = recall_score(Y_test, pred, pos_label=1) #average=\"micro\")\n",
    "    f1score = f1_score(Y_test, pred, pos_label=1) #average=\"micro\")\n",
    "    minority_recall = recall_score(Y_test, pred, pos_label=0)\n",
    "    minority_precision = precision_score(Y_test, pred, pos_label=0)\n",
    "    minority_f1 = f1_score(Y_test, pred, pos_label=0)\n",
    "    accuracy=accuracy_score(Y_test, pred)\n",
    "\n",
    "    return (precision,recall,f1score,accuracy,minority_f1,minority_recall, minority_precision)"
   ]
  },
  {
   "cell_type": "code",
   "execution_count": 42,
   "metadata": {},
   "outputs": [],
   "source": [
    "def run_classifier(clf, df, iteration, resample, normalize):\n",
    "    \n",
    "    if normalize:\n",
    "        df = normalize_df(df)\n",
    "\n",
    "    Precision=[]\n",
    "    Recall=[]\n",
    "    Fmean=[]\n",
    "    Accuracy=[]\n",
    "    Minority_recall = []\n",
    "    Minority_precision = []\n",
    "    Minority_F1 = []\n",
    "\n",
    "    random.seed(datetime.datetime.now())\n",
    "    sampling_model = SMOTE(random_state=None, k_neighbors=15, sampling_strategy=0.65,  n_jobs=4)\n",
    "\n",
    "    for k in range (0,iteration):\n",
    "        kf = KFold(n_splits=10, shuffle=True)\n",
    "\n",
    "        run_precision=[]\n",
    "        run_recall=[]\n",
    "        run_f1score=[]\n",
    "        run_accuracy=[]\n",
    "        run_minority_recall=[]\n",
    "        run_minority_f1 = []\n",
    "        run_minority_precision=[]\n",
    "\n",
    "        X_np=np.array(df)\n",
    "        Y_np=np.array(Y)\n",
    "\n",
    "        for train, test in kf.split(df,Y):\n",
    "            if resample:\n",
    "                X_resampled, Y_resampled = sampling_model.fit_sample(X_np[train], Y_np[train])\n",
    "            else:\n",
    "                X_resampled, Y_resampled = X_np[train], Y_np[train]\n",
    "            #print(np.bincount(Y_resampled))\n",
    "            (precision,recall,f1score,accuracy,minority_f1,minority_recall,minority_precision)=benchmark_classifier(clf,X_resampled,Y_resampled,X_np[test],Y_np[test])\n",
    "\n",
    "            run_accuracy.append(accuracy)\n",
    "            run_f1score.append(f1score)\n",
    "            run_precision.append(precision)\n",
    "            run_recall.append(recall)\n",
    "            run_minority_recall.append(minority_recall)\n",
    "            run_minority_f1.append(minority_f1)\n",
    "            run_minority_precision.append(minority_precision)\n",
    "\n",
    "        Precision.append(mean(run_precision))\n",
    "        Recall.append(mean(run_recall))\n",
    "        Fmean.append(mean(run_f1score))\n",
    "        Accuracy.append(mean(run_accuracy))\n",
    "        Minority_recall.append(mean(run_minority_recall))\n",
    "        Minority_precision.append(mean(run_minority_precision))\n",
    "        Minority_F1.append(mean(run_minority_f1))\n",
    "\n",
    "    print('{:.2f} & {:.2f} & {:.2f} & {:.2f} & {:.2f} & {:.2f} & {:.2f} \\\\\\ \\hline'.format(round(mean(Accuracy)*100, 2), round(mean(Precision)*100, 2), round(mean(Recall)*100, 2), round(mean(Fmean)*100, 2), round(mean(Minority_precision)*100, 2), round(mean(Minority_recall)*100, 2), round(mean(Minority_F1)*100, 2)))\n",
    "\n",
    "    return mean(Precision), mean(Recall), mean(Fmean), mean(Accuracy),mean(Minority_F1), mean(Minority_precision), mean(Minority_recall)"
   ]
  },
  {
   "cell_type": "code",
   "execution_count": 51,
   "metadata": {
    "scrolled": false
   },
   "outputs": [
    {
     "name": "stdout",
     "output_type": "stream",
     "text": [
      "\t\t                  Acc  | Useful                | Not Useful\n",
      "\t\t                  A    | P,      R,      F1    | P,      R,      F1\n",
      "       \\textbf{Decision Tree}  & 81.25 & 91.13 & 85.16 & 87.99 & 50.44 & 64.49 & 56.23 \\\\ \\hline\n",
      "       \\textbf{Random Forest}  & 87.20 & 90.87 & 93.63 & 92.20 & 68.69 & 59.74 & 63.44 \\\\ \\hline\n",
      "                 \\textbf{SVM}  & 63.60 & 85.80 & 67.24 & 71.68 & 29.36 & 48.41 & 30.92 \\\\ \\hline\n",
      "      \\textbf{Neural Network}  & 82.56 & 88.68 & 89.98 & 89.29 & 54.35 & 50.70 & 51.94 \\\\ \\hline\n",
      "             \\textbf{XGBoost}  & 84.69 & 90.09 & 91.17 & 90.59 & 60.44 & 57.07 & 58.17 \\\\ \\hline\n",
      " \\textbf{Logistic Regression}  & 73.84 & 87.09 & 79.57 & 83.09 & 35.98 & 49.46 & 41.25 \\\\ \\hline\n"
     ]
    }
   ],
   "source": [
    "X = data[selected_features]\n",
    "Y = data[['label']]\n",
    "\n",
    "# RUNNING ALL CLASSIFIERS ONE BY ONE\n",
    "print(\"\\t\\t\\t\\t\\t\\t  Acc  | Useful                | Not Useful\")\n",
    "print(\"\\t\\t\\t\\t\\t\\t  A    | P,      R,      F1    | P,      R,      F1\")\n",
    "for (clf, name) in zip(clfs, clf_names):\n",
    "    print(\"%29s\"%name, \" & \", end=\"\")\n",
    "    run_classifier(clf, X, iteration=20, resample=True, normalize=False)"
   ]
  },
  {
   "cell_type": "markdown",
   "metadata": {},
   "source": [
    "## Results\n",
    "                                     Acc   | Useful                | Not Useful\n",
    "                                     A     | P,      R,      F1    | P,      R,      F1\n",
    "           \\textbf{Decision Tree}  & 81.25 & 91.13 & 85.16 & 87.99 & 50.44 & 64.49 & 56.23 \\\\ \\hline\n",
    "           \\textbf{Random Forest}  & 87.20 & 90.87 & 93.63 & 92.20 & 68.69 & 59.74 & 63.44 \\\\ \\hline\n",
    "                     \\textbf{SVM}  & 63.60 & 85.80 & 67.24 & 71.68 & 29.36 & 48.41 & 30.92 \\\\ \\hline\n",
    "          \\textbf{Neural Network}  & 82.56 & 88.68 & 89.98 & 89.29 & 54.35 & 50.70 & 51.94 \\\\ \\hline\n",
    "                 \\textbf{XGBoost}  & 84.69 & 90.09 & 91.17 & 90.59 & 60.44 & 57.07 & 58.17 \\\\ \\hline\n",
    "     \\textbf{Logistic Regression}  & 73.84 & 87.09 & 79.57 & 83.09 & 35.98 & 49.46 & 41.25 \\\\ \\hline"
   ]
  },
  {
   "cell_type": "markdown",
   "metadata": {},
   "source": [
    "# Bosu et al."
   ]
  },
  {
   "cell_type": "code",
   "execution_count": 52,
   "metadata": {},
   "outputs": [],
   "source": [
    "feature_bosu_etal = [\n",
    "    'change_trigger', \n",
    "    'is_confirmatory_response', \n",
    "    'patch_id',\n",
    "    'num_participate',\n",
    "    'num_comments_in_thread',\n",
    "    'word_count',\n",
    "    'author_responded',\n",
    "    'message_sentiment'\n",
    "]"
   ]
  },
  {
   "cell_type": "code",
   "execution_count": 53,
   "metadata": {
    "scrolled": false
   },
   "outputs": [
    {
     "name": "stdout",
     "output_type": "stream",
     "text": [
      "Bosu et al.\n",
      "\t\t         Acc  | Useful                | Not Useful\n",
      "\t\t         A    | P,      R,      F1    | P,      R,      F1\n",
      "dtree:\t 75.27 & 88.76 & 79.59 & 83.87 & 39.39 & 56.78 & 46.17 \\\\ \\hline\n"
     ]
    },
    {
     "data": {
      "text/plain": [
       "(0.8876263327885716,\n",
       " 0.7958739501051525,\n",
       " 0.8386805992573756,\n",
       " 0.752723525803236,\n",
       " 0.46172110814624145,\n",
       " 0.3939038373424433,\n",
       " 0.5678476150899983)"
      ]
     },
     "execution_count": 53,
     "metadata": {},
     "output_type": "execute_result"
    }
   ],
   "source": [
    "print(\"Bosu et al.\")\n",
    "print(\"\\t\\t         Acc  | Useful                | Not Useful\")\n",
    "print(\"\\t\\t         A    | P,      R,      F1    | P,      R,      F1\")\n",
    "print(\"dtree:\\t \", end=\"\")\n",
    "run_classifier(dt, data[feature_bosu_etal], iteration=20, resample=True, normalize=False)"
   ]
  },
  {
   "cell_type": "markdown",
   "metadata": {},
   "source": [
    "## Bosu et al. results\n",
    "             Acc   | Useful                   | Not Useful\n",
    "             A     | P,       R,       F1     | P,      R,        F1\n",
    "    dtree:   75.27 & 88.76 & 79.59 & 83.87 & 39.39 & 56.78 & 46.17 \\\\ \\hline"
   ]
  },
  {
   "cell_type": "markdown",
   "metadata": {},
   "source": [
    "# Rahman et al."
   ]
  },
  {
   "attachments": {
    "image.png": {
     "image/png": "[encoded data removed]"
    }
   },
   "cell_type": "markdown",
   "metadata": {},
   "source": [
    "![image.png](attachment:image.png)"
   ]
  },
  {
   "cell_type": "markdown",
   "metadata": {},
   "source": [
    "Rahman et al. features"
   ]
  },
  {
   "cell_type": "code",
   "execution_count": 54,
   "metadata": {},
   "outputs": [],
   "source": [
    "# Binary\n",
    "data['ReviewingTwice'] = df['ReviewingTwice']\n",
    "data['CommittedTwice'] = (df['author_file_experience'] > 0)*1\n",
    "\n",
    "# Numeric\n",
    "data['ReviewedCommitsFile'] = df['ReviewedCommitsFile']\n",
    "data['ReviewedPRs'] = df['ReviewedPRs']"
   ]
  },
  {
   "cell_type": "markdown",
   "metadata": {},
   "source": [
    "Discretizing Rahman et al. neumeric features"
   ]
  },
  {
   "cell_type": "code",
   "execution_count": 55,
   "metadata": {},
   "outputs": [],
   "source": [
    "discretize_pd(data, data, 'ReviewedCommitsFile', 2, False)\n",
    "discretize_pd(data, data, 'ReviewedPRs', 2, False)"
   ]
  },
  {
   "cell_type": "code",
   "execution_count": 56,
   "metadata": {},
   "outputs": [],
   "source": [
    "feature_rahman_etal = [\n",
    "'similarity', 'ReviewedCommitsFile', 'dev_commits', 'num_review_comment', 'ReviewedPRs', \n",
    "'author_file_experience', 'stop_word_ratio', 'code_word_ratio',\n",
    "'ReviewingTwice', 'readability', 'CommittedTwice', 'question_ratio'\n",
    "]\n",
    "\n",
    "# TotalAuthoredCommits = dev_commits\n",
    "# TotalReviewedCommits = num_review_comment\n",
    "# AuthorCommitsFile = author_file_experience\n",
    "\n",
    "# Features not done:  \n",
    "# 1. Ext library: do not have\n",
    "# 2. key word ratio: not clearly described in the paper\n",
    "# 3. ReadingEaseNL: not clear how it is different from ReadingEase"
   ]
  },
  {
   "cell_type": "code",
   "execution_count": 57,
   "metadata": {
    "scrolled": false
   },
   "outputs": [
    {
     "name": "stdout",
     "output_type": "stream",
     "text": [
      "Rahman et al.\n",
      "\t         Acc  | Useful                | Not Useful\n",
      "\t         A    | P,      R,      F1    | P,      R,      F1\n",
      "Random Forest & 79.32 & 88.67 & 85.42 & 86.97 & 46.08 & 53.37 & 49.05 \\\\ \\hline\n"
     ]
    },
    {
     "data": {
      "text/plain": [
       "(0.8867119366971628,\n",
       " 0.8541559830813201,\n",
       " 0.8696549457757371,\n",
       " 0.7932363315696649,\n",
       " 0.4904989141139503,\n",
       " 0.4607838475194565,\n",
       " 0.5336689670250959)"
      ]
     },
     "execution_count": 57,
     "metadata": {},
     "output_type": "execute_result"
    }
   ],
   "source": [
    "print(\"Rahman et al.\")\n",
    "print(\"\\t         Acc  | Useful                | Not Useful\")\n",
    "print(\"\\t         A    | P,      R,      F1    | P,      R,      F1\")\n",
    "print(\"Random Forest & \", end=\"\")\n",
    "run_classifier(rf, data[feature_rahman_etal], iteration=20, resample=True, normalize=False)"
   ]
  },
  {
   "cell_type": "markdown",
   "metadata": {},
   "source": [
    "## Rahman et al. Results\n",
    "                     Acc  | Useful                | Not Useful\n",
    "                     A    | P,      R,      F1    | P,      R,      F1\n",
    "    Random Forest & 79.32 & 88.67 & 85.42 & 86.97 & 46.08 & 53.37 & 49.05 \\\\ \\hline"
   ]
  },
  {
   "cell_type": "code",
   "execution_count": null,
   "metadata": {},
   "outputs": [],
   "source": []
  }
 ],
 "metadata": {
  "kernelspec": {
   "display_name": "Python 3",
   "language": "python",
   "name": "python3"
  },
  "language_info": {
   "codemirror_mode": {
    "name": "ipython",
    "version": 3
   },
   "file_extension": ".py",
   "mimetype": "text/x-python",
   "name": "python",
   "nbconvert_exporter": "python",
   "pygments_lexer": "ipython3",
   "version": "3.6.8"
  }
 },
 "nbformat": 4,
 "nbformat_minor": 2
}
